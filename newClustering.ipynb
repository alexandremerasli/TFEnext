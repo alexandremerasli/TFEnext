{
 "cells": [
  {
   "cell_type": "markdown",
   "metadata": {},
   "source": [
    "## Load packages"
   ]
  },
  {
   "cell_type": "code",
   "execution_count": 1,
   "metadata": {},
   "outputs": [
    {
     "name": "stderr",
     "output_type": "stream",
     "text": [
      "//anaconda3/lib/python3.7/site-packages/sklearn/utils/linear_assignment_.py:22: FutureWarning: The linear_assignment_ module is deprecated in 0.21 and will be removed from 0.23. Use scipy.optimize.linear_sum_assignment instead.\n",
      "  FutureWarning)\n",
      "//anaconda3/lib/python3.7/site-packages/skbio/util/_testing.py:15: FutureWarning: pandas.util.testing is deprecated. Use the functions in the public API at pandas.testing instead.\n",
      "  import pandas.util.testing as pdt\n"
     ]
    }
   ],
   "source": [
    "# Useful packages\n",
    "import os\n",
    "import warnings\n",
    "\n",
    "# Work with Python array and graphs\n",
    "import numpy as np\n",
    "import matplotlib.pyplot as plt\n",
    "import matplotlib.patches as mpatches\n",
    "\n",
    "# Cluster tendency\n",
    "from pyclustertend import hopkins\n",
    "\n",
    "# Mapping\n",
    "from sklearn.metrics import pairwise_distances, accuracy_score\n",
    "from coclust.evaluation.external import accuracy\n",
    "from skbio.stats.ordination import pcoa\n",
    "from multiview.mvmds import mvmds\n",
    "\n",
    "# Clustering algorithm\n",
    "from sklearn.cluster import KMeans\n",
    "from sklearn.cluster import SpectralClustering\n",
    "from sklearn.cluster import AgglomerativeClustering\n",
    "#from KMedoidsPaper import KMedoids\n",
    "\n",
    "# Clustering performance evaluation\n",
    "from sklearn.metrics import davies_bouldin_score, silhouette_score"
   ]
  },
  {
   "cell_type": "code",
   "execution_count": 2,
   "metadata": {},
   "outputs": [
    {
     "name": "stdout",
     "output_type": "stream",
     "text": [
      "scikit-learn==0.22.1\n",
      "numpy==1.17.0\n",
      "matplotlib==3.2.1\n"
     ]
    }
   ],
   "source": [
    "import pkg_resources\n",
    "import types\n",
    "def get_imports():\n",
    "    for name, val in globals().items():\n",
    "        if isinstance(val, types.ModuleType):\n",
    "            # Split ensures you get root package, \n",
    "            # not just imported function\n",
    "            name = val.__name__.split(\".\")[0]\n",
    "\n",
    "        elif isinstance(val, type):\n",
    "            name = val.__module__.split(\".\")[0]\n",
    "\n",
    "        # Some packages are weird and have different\n",
    "        # imported names vs. system/pip names. Unfortunately,\n",
    "        # there is no systematic way to get pip names from\n",
    "        # a package's imported name. You'll have to add\n",
    "        # exceptions to this list manually!\n",
    "        poorly_named_packages = {\n",
    "            \"PIL\": \"Pillow\",\n",
    "            \"sklearn\": \"scikit-learn\"\n",
    "        }\n",
    "        if name in poorly_named_packages.keys():\n",
    "            name = poorly_named_packages[name]\n",
    "\n",
    "        yield name\n",
    "imports = list(set(get_imports()))\n",
    "\n",
    "# The only way I found to get the version of the root package\n",
    "# from only the name of the package is to cross-check the names \n",
    "# of installed packages vs. imported packages\n",
    "requirements = []\n",
    "for m in pkg_resources.working_set:\n",
    "    if m.project_name in imports and m.project_name!=\"pip\":\n",
    "        requirements.append((m.project_name, m.version))\n",
    "\n",
    "for r in requirements:\n",
    "    print(\"{}=={}\".format(*r))"
   ]
  },
  {
   "cell_type": "markdown",
   "metadata": {},
   "source": [
    "## Load data"
   ]
  },
  {
   "cell_type": "code",
   "execution_count": 3,
   "metadata": {},
   "outputs": [
    {
     "name": "stdout",
     "output_type": "stream",
     "text": [
      "[ 1  2  3  4  5  6  7  8  9 10 11 12 13 14 15 16 17].csv\n",
      "ok*\n",
      "False\n",
      "1  2  3  4  5  6  7  8  9 10 11 12 13 14 15 16 17].csv\n",
      "school_EDA1_1   2   3   4   5   6   7   8   9  10  11  12  13  14  15  16  17.csv\n",
      "school_EDA1_1   2   3   4   5   6   7   8   9  10  11  12  13  14  15  16  17\n",
      "[17, 17, 51, 67, 67, 67, 67, 67, 67, 67, 67, 67, 67, 68]\n",
      "[17, 17, 51, 67, 67, 67, 67, 67, 67, 67, 67, 67, 67, 68]\n"
     ]
    }
   ],
   "source": [
    "def loadShapedMatrix(mat,studiedPeriods,studiedClasses):\n",
    "    # Load data from CSV\n",
    "    nameEnd = (\"%s\" %studiedClasses).replace(\"[\", \"\")\n",
    "    if ('%s.csv' %(nameEnd))[0] == \" \":\n",
    "        nameEnd = ('%s' %(nameEnd))[1:] # remove first space if there is\n",
    "    nameEnd = (\"%s\" %nameEnd).replace(\"]\", \"\")\n",
    "    nameEnd = (\"%s\" %nameEnd).replace(\" \", \"  \") # 1 space -> 2 spaces ; 2 spaces -> 4 spaces\n",
    "    nameEnd = (\"%s\" %nameEnd).replace(\"    \", \"   \") # 4 spaces -> 3 spaces\n",
    "    nameStart = (\"%s\" %studiedPeriods).replace(\"[\", \"\")\n",
    "    nameStart = (\"%s\" %nameStart).replace(\"]\", \"\")\n",
    "    nameStart = (\"%s\" %nameStart).replace(\" \", \"  \")\n",
    "\n",
    "    print(('school_%s%s_%s.csv' %(mat,nameStart,nameEnd)))\n",
    "    print('school_EDA1_1   2   3   4   5   6   7   8   9  10  11  12  13  14  15  16  17')\n",
    "    ISC = np.genfromtxt(os.path.join('school_%s%s_%s.csv' %(mat,nameStart,nameEnd)),delimiter=',')\n",
    "    ISC = np.array(ISC,dtype='float') # Convert into array\n",
    "\n",
    "    # Initialize reshaped ISC\n",
    "    nParticipants = ISC.shape[0]\n",
    "    nPeriod = int(np.sqrt(ISC.shape[1] / nParticipants))\n",
    "    ISC_sh = np.zeros((ISC.shape[0]*nPeriod,ISC.shape[0]*nPeriod))\n",
    "\n",
    "    # Reshape data by moving blocks\n",
    "    for period1 in range(nPeriod):\n",
    "        for period2 in range(nPeriod):\n",
    "            if (period1 == period2): # We must symmetrize this block containing NaNs\n",
    "                subISC = np.nan_to_num(ISC[:,nParticipants*(nPeriod*period1+period2):nParticipants*(nPeriod*period1+period2+1)])\n",
    "                subISC = (subISC+subISC.T)/2\n",
    "            else:\n",
    "                subISC = ISC[:,nParticipants*(nPeriod*period1+period2):nParticipants*(nPeriod*period1+period2+1)]\n",
    "            \n",
    "            ISC_sh[nParticipants*period1:nParticipants*(period1+1),nParticipants*period2:nParticipants*(period2+1)] = subISC\n",
    "\n",
    "    # Make reshaped ISC symmetrical\n",
    "    ISC_sh = np.nan_to_num(ISC_sh)\n",
    "    ISC_sh = (ISC_sh+ISC_sh.T)/2\n",
    "\n",
    "    return ISC_sh,nPeriod,nParticipants\n",
    "\n",
    "\n",
    "# To study : DONT USE LINSPACE OR ARANGE BUT HAND WRITTEN ARRAY, OTERHWISE WILL NOT FIND THE CSV\n",
    "studiedPeriods = np.array([1])\n",
    "#studiedPeriods = np.array([1,4])\n",
    "\n",
    "studiedClasses = np.array([1,4])\n",
    "studiedClasses = np.array([1,2,3,4,5,6,7,8,9,10,11,12,13,14,15,16,17])\n",
    "\n",
    "\n",
    "print(('%s.csv' %(studiedClasses)))\n",
    "# Load EDA and IBI\n",
    "ISC_EDA,nPeriod,nParticipants = loadShapedMatrix('EDA',studiedPeriods,studiedClasses)\n",
    "#ISC_IBI,nPeriod,nParticipants = loadShapedMatrix('IBI',studiedPeriods,studiedClasses)\n",
    "ISC_IBI = ISC_EDA\n",
    "# Remove rows with NaNs\n",
    "def removeNaNSubject(matrix,subject):\n",
    "    new_mat = np.copy(matrix)\n",
    "    new_mat = np.delete(new_mat, (subject), axis=0)\n",
    "    new_mat = np.delete(new_mat, (subject), axis=1)\n",
    "    \n",
    "    return new_mat\n",
    "\n",
    "# Remove participant in vector\n",
    "def removeSubjectsVector(vector,subjects):\n",
    "    new_vect = np.copy(vector)\n",
    "    for subj in subjects:\n",
    "        new_vect = np.delete(new_vect, (subj), axis=0)\n",
    "    \n",
    "    return new_vect\n",
    "\n",
    "# Remove rows in ISC if NaN\n",
    "def removeNaNISC(ISC):\n",
    "    last_i = 0\n",
    "    i = 0\n",
    "    subjectsRemoved = []\n",
    "    remove = False\n",
    "    nbTotal = len(ISC) \n",
    "    while (last_i < nbTotal and i < nbTotal - 1):\n",
    "        for i in range(nbTotal):\n",
    "            remove = False\n",
    "            for p in range(nPeriod):\n",
    "                if ISC[p*nParticipants,i] == 0.:\n",
    "                    remove = True\n",
    "                    break\n",
    "\n",
    "            if remove:        \n",
    "                ISC = removeNaNSubject(ISC,i)\n",
    "                last_i = i\n",
    "                nbTotal -= 1\n",
    "                subjectsRemoved.append(i)\n",
    "                break\n",
    "                \n",
    "    print(subjectsRemoved)\n",
    "    return ISC, subjectsRemoved\n",
    "\n",
    "    #print(last_i)\n",
    "\n",
    "    \n",
    "    \n",
    "ISC_EDA,subjectsRemoved_EDA = removeNaNISC(ISC_EDA)\n",
    "ISC_IBI,subjectsRemoved_IBI = removeNaNISC(ISC_IBI)\n",
    "\n",
    "\n",
    "\n",
    "import csv\n",
    "    \n",
    "with open(os.path.join('test.csv'), 'w') as File:\n",
    "    writer = csv.writer(File,delimiter =',')\n",
    "    writer.writerows(ISC_EDA)        \n",
    "        \n"
   ]
  },
  {
   "cell_type": "markdown",
   "metadata": {},
   "source": [
    "## Compute distance matrix"
   ]
  },
  {
   "cell_type": "code",
   "execution_count": 4,
   "metadata": {},
   "outputs": [],
   "source": [
    "def computeDistanceMatrix(study_matrix):\n",
    "    \n",
    "    # Normalise maximum value to 1\n",
    "    normed_matrix = np.copy(study_matrix)\n",
    "    normed_matrix = normed_matrix / np.max(abs(normed_matrix))\n",
    "    \n",
    "    # Convert into distance matrix\n",
    "    distance_matrix = np.sqrt((1-normed_matrix)) # Formula in Matlab and in Scikit to convert \n",
    "        \n",
    "    # Interval MDS normalization to spread values between 0 and 1\n",
    "    a = np.min(np.sort(distance_matrix,axis=0)[1,:])\n",
    "    distance_matrix = distance_matrix - a\n",
    "    distance_matrix = distance_matrix - np.diag(np.diag(distance_matrix))\n",
    "    distance_matrix = distance_matrix / np.max(distance_matrix)\n",
    "    \n",
    "    # To make sure output is perfectly symmetrical\n",
    "    return (distance_matrix+distance_matrix.T)/2"
   ]
  },
  {
   "cell_type": "markdown",
   "metadata": {},
   "source": [
    "## Multiview mapping"
   ]
  },
  {
   "cell_type": "code",
   "execution_count": 5,
   "metadata": {},
   "outputs": [],
   "source": [
    "def computeAllDistanceMatrix(ISC_EDA,ISC_IBI):\n",
    "    \n",
    "    # Make copy of 2 matrices (for each modality)\n",
    "    mat_EDA = np.copy(ISC_EDA)\n",
    "    mat_IBI = np.copy(ISC_IBI)\n",
    "    \n",
    "    # Compute the 2 distance matrices (according to each modality)\n",
    "    distance_matrix_EDA = computeDistanceMatrix(ISC_EDA)\n",
    "    distance_matrix_IBI = computeDistanceMatrix(ISC_IBI)\n",
    "  \n",
    "    # Remove direct correlation influence and compute correlation distance matrices\n",
    "    for i in range(len(mat_EDA)):\n",
    "        mat_EDA[i,i] = 0\n",
    "    for i in range(len(mat_IBI)):\n",
    "        mat_IBI[i,i] = 0\n",
    "    distance_matrix_corr_EDA = pairwise_distances(mat_EDA,metric='correlation')\n",
    "    distance_matrix_corr_IBI = pairwise_distances(mat_IBI,metric='correlation')\n",
    "\n",
    "    # Return distance matrices\n",
    "    return distance_matrix_EDA, distance_matrix_IBI, distance_matrix_corr_EDA, distance_matrix_corr_IBI\n"
   ]
  },
  {
   "cell_type": "code",
   "execution_count": 6,
   "metadata": {},
   "outputs": [],
   "source": [
    "def computeCoordinate(mat=['EDA','IBI','corrEDA','corrIBI'],added=False):\n",
    "\n",
    "    # Compute all distance matrices\n",
    "    distance_matrix_EDA, distance_matrix_IBI, distance_matrix_corr_EDA, distance_matrix_corr_IBI = computeAllDistanceMatrix(ISC_EDA,ISC_IBI)    \n",
    "    #distance_matrix_EDA, distance_matrix_corr_EDA = computeAllDistanceMatrix(ISC_EDA,ISC_IBI)    \n",
    "\n",
    "    # Choose which matrices to include into the multiview\n",
    "    multiviewMat = []\n",
    "    if ('EDA' in mat):\n",
    "        multiviewMat.append(distance_matrix_EDA)\n",
    "        distance_matrix = distance_matrix_EDA\n",
    "    if ('IBI' in mat):\n",
    "        multiviewMat.append(distance_matrix_IBI)\n",
    "        distance_matrix = distance_matrix_IBI\n",
    "    if ('corrEDA' in mat):\n",
    "        multiviewMat.append(distance_matrix_corr_EDA)\n",
    "    if ('corrIBI' in mat):\n",
    "        multiviewMat.append(distance_matrix_corr_IBI)\n",
    "        \n",
    "    # Compute mapping\n",
    "    embeddingDim = dim # to have a 2D map\n",
    "    \n",
    "    if len(mat)==1:\n",
    "        points = np.array(pcoa(distance_matrix, method='eigh', number_of_dimensions=embeddingDim).samples)\n",
    "        print(\"pcoa proportion explained : %s \" %np.sum(pcoa(distance_matrix, method='eigh', number_of_dimensions=embeddingDim).proportion_explained))\n",
    "    else:\n",
    "        points = mvmds(multiviewMat,len(mat)*[True],embeddingDim,added=added)\n",
    "    \n",
    "    return points"
   ]
  },
  {
   "cell_type": "code",
   "execution_count": 7,
   "metadata": {},
   "outputs": [],
   "source": [
    "import umap.umap_ as umap\n",
    "from sklearn import preprocessing\n",
    "\n",
    "def computeUMAPCoordinate(mat,sslLabel=None,n_neighbors=3):\n",
    "\n",
    "    if (mat==['EDA']):\n",
    "        study_matrix = ISC_EDA\n",
    "    if (mat==['IBI']):\n",
    "        study_matrix = ISC_IBI\n",
    "\n",
    "    fitter = umap.UMAP(n_components=int(dim),n_neighbors=n_neighbors,metric='correlation',min_dist=0.0,init='spectral',target_weight=0.5,n_epochs=5000).fit(study_matrix,sslLabel)\n",
    "    #points = preprocessing.scale(fitter.embedding_,axis=0)\n",
    "    points = (fitter.embedding_ - np.mean(fitter.embedding_,axis=0)) / np.std(fitter.embedding_,axis=0)\n",
    "    #print(np.std(points))\n",
    "    #print(np.mean(points))\n",
    "    return points"
   ]
  },
  {
   "cell_type": "code",
   "execution_count": 8,
   "metadata": {},
   "outputs": [],
   "source": [
    "from sklearn.cluster import SpectralClustering\n",
    "\n",
    "def computeSCCoordinate(mat,gamma=1):\n",
    "    \n",
    "    distance_matrix_EDA, distance_matrix_IBI, distance_matrix_corr_EDA, distance_matrix_corr_IBI = computeAllDistanceMatrix(ISC_EDA,ISC_IBI)    \n",
    "    #distance_matrix_EDA, distance_matrix_corr_EDA = computeAllDistanceMatrix(ISC_EDA,ISC_IBI)    \n",
    "\n",
    "    if (mat==['EDA']):\n",
    "        distance_matrix = distance_matrix_EDA\n",
    "    if (mat==['IBI']):\n",
    "        distance_matrix = distance_matrix_IBI\n",
    "    \n",
    "    \n",
    "    clusteringDist = SpectralClustering(n_clusters=dim+1, n_init=10,affinity='precomputed')\n",
    "    affinity_matrix = np.exp(-gamma * distance_matrix ** 2)\n",
    "    clusteringDist.fit(affinity_matrix)\n",
    "    return clusteringDist.map_[:,1:]"
   ]
  },
  {
   "cell_type": "code",
   "execution_count": 9,
   "metadata": {},
   "outputs": [],
   "source": [
    "from sklearn.cluster import SpectralClustering\n",
    "\n",
    "def computeNoneCoordinate(mat):\n",
    "    \n",
    "    distance_matrix_EDA, distance_matrix_IBI, distance_matrix_corr_EDA, distance_matrix_corr_IBI = computeAllDistanceMatrix(ISC_EDA,ISC_IBI)    \n",
    "    #distance_matrix_EDA, distance_matrix_corr_EDA = computeAllDistanceMatrix(ISC_EDA,ISC_IBI)    \n",
    "\n",
    "    if (mat==['EDA']):\n",
    "        distance_matrix = distance_matrix_EDA\n",
    "    if (mat==['IBI']):\n",
    "        distance_matrix = distance_matrix_IBI\n",
    "    \n",
    "    return distance_matrix"
   ]
  },
  {
   "cell_type": "markdown",
   "metadata": {},
   "source": [
    "## Compute clustering"
   ]
  },
  {
   "cell_type": "code",
   "execution_count": 10,
   "metadata": {},
   "outputs": [],
   "source": [
    "class Results():\n",
    "\n",
    "    def __init__(self,mat,mapping,algo,condition):\n",
    "        self.mat = mat\n",
    "        self.mapping = mapping\n",
    "        self.algo = algo\n",
    "        self.condition = condition\n",
    "        \n",
    "    def twoClustersMethodResult(self):\n",
    "        print(\"Blind results\\n\")\n",
    "        \n",
    "        # Cluster tendency\n",
    "        print(\"Hopkins test\")\n",
    "        self.hopkinsCoef()\n",
    "        print(\"%f +- %f\" %(self.hopkins[0],self.hopkins[1]))\n",
    "        \n",
    "        # Found clusters\n",
    "        print(\"Found clusters \")\n",
    "        print(self.label)\n",
    "        \n",
    "        # Clustering quality evaluation\n",
    "        print(\"Silhouette coefficient : %0.3f\" %self.silhouetteCoef())\n",
    "        print(\"DB index : %f \" %self.dbScore())\n",
    "                \n",
    "        # Comparing to ground truth (if known)\n",
    "        if (os.path.isfile(os.path.join('conditionSchool_EDA.csv')) and os.path.isfile(os.path.join('conditionSchool_IBI.csv'))):\n",
    "            global groundTruth\n",
    "            if (groundTruth):\n",
    "                print(\"\\n\\nComparing to ground truth\\n\")\n",
    "                print(\"Accuracy : %f \" %self.accuracy())\n",
    "                #print(\"Well participants : [%s]\" % \", \".join(map(str, self.wellClassified)))        \n",
    "                print(\"Misclassified participants : [%s]\" % \", \".join(map(str, self.misClassified)))        \n",
    "\n",
    "    def applyMethod(self,method):\n",
    "        \n",
    "        # Mapping\n",
    "        if (mapping == 'UMAP'):\n",
    "            points = computeUMAPCoordinate(self.mat)\n",
    "        elif (mapping == 'MDS'):\n",
    "            points = computeCoordinate(self.mat,added=False)\n",
    "        elif (mapping == 'MDS_scale'):\n",
    "            points = computeCoordinate(self.mat,added=True)\n",
    "        elif (mapping == 'SC'):\n",
    "            points = computeSCCoordinate(self.mat)\n",
    "        elif (mapping == 'None'): # distance matrix based clustering algorithm\n",
    "            print(\"dist meth\")\n",
    "            points = computeNoneCoordinate(self.mat)\n",
    "            if (algo == 'Spectral Clustering distance'):\n",
    "                points = np.exp(-method.gamma * points ** 2)\n",
    "        \n",
    "        # Clustering\n",
    "        # if (meth.distance_matrix):\n",
    "        if (algo == 'K-Medoids'):\n",
    "            meth = method.fit(pairwise_distances(points))\n",
    "        else:\n",
    "            meth = method.fit(points)\n",
    "\n",
    "        # Store found labels and points location\n",
    "        if hasattr(meth, 'labels_'):\n",
    "            label = meth.labels_\n",
    "        else:\n",
    "            label = meth.predict(points)\n",
    "            \n",
    "        self.label = label\n",
    "        self.best_points = points\n",
    "         \n",
    "    def showResultMap(self):\n",
    "        \n",
    "        # Set new figure\n",
    "        plt.figure()\n",
    "        ax = plt.axes([0,0,1.2,1.2])\n",
    "        ax.set_aspect(aspect='equal')\n",
    "        \n",
    "        # Annotate points\n",
    "        if mat == ['EDA']:\n",
    "            n = len(ISC_EDA)\n",
    "        elif mat == ['IBI']:\n",
    "            n = len(ISC_IBI)        \n",
    "        for i in range(n):\n",
    "            ax.annotate(i,(self.best_points[i,0],self.best_points[i,1]),xytext=(self.best_points[i,0]+(np.max(self.best_points[:,0])-np.min(self.best_points[:,0]))/50,self.best_points[i,1]))     \n",
    "    \n",
    "        # Show color according to trueDisplay bool\n",
    "        global trueDisplay\n",
    "        if (trueDisplay):\n",
    "            # Scatter points\n",
    "            for i in range(n_clusters):\n",
    "                ax.scatter(self.best_points[self.trueGroups[i],0],self.best_points[self.trueGroups[i],1],s=145,label=str(i))\n",
    "            \n",
    "            # Add legend\n",
    "            TP = mpatches.Patch(color='blue', label='NA')\n",
    "            TN = mpatches.Patch(color='red', label='SSA')\n",
    "            FP_FN = mpatches.Patch(color='black', label='misclassified')\n",
    "            #plt.legend(handles=[TP,TN,FP_FN])\n",
    "            plt.title(\"%s on [%s]\" % (self.algo, \", \".join(map(str, self.mat))))\n",
    "            #plt.axis('off')\n",
    "            #axes = plt.gca()\n",
    "            #axes.set_xlim([-0.4,0.4])\n",
    "            #axes.set_ylim([-0.4,0.7])\n",
    "            plt.savefig(os.path.join('figures','GT_%s.png' %self.mat),bbox_inches='tight')\n",
    "        else:\n",
    "            # Scatter points\n",
    "            for i in range(n_clusters):\n",
    "                ax.scatter(self.best_points[self.label == i,0],self.best_points[self.label == i,1],s=145,label=str(i))\n",
    "            \n",
    "            # Add legend\n",
    "            group0 = mpatches.Patch(color='darkgreen', label='First group')\n",
    "            group1 = mpatches.Patch(color='darkorange', label='Second group')\n",
    "            #plt.legend(handles=[group0,group1])       \n",
    "            plt.title(\"%s on [%s]\" % (self.algo, \", \".join(map(str, self.mat))))\n",
    "            #plt.axis('off')\n",
    "            plt.savefig(os.path.join('figures','clustering_%s.png' %self.mat),bbox_inches='tight')\n",
    "\n",
    "        \n",
    "    def dbScore(self):\n",
    "        # Compute DB-score (small means good clustering)\n",
    "        if len(np.unique(self.label))==1:\n",
    "            warnings.warn(\"Labels correspond to only 1 group\")\n",
    "            return -1\n",
    "        elif len(np.unique(self.label))==len(ISC_EDA):\n",
    "            warnings.warn(\"Each participant correspond to one label\")\n",
    "            return -1\n",
    "        elif len(np.unique(self.label))==len(ISC_IBI):\n",
    "            warnings.warn(\"Each participant correspond to one label\")\n",
    "            return -1\n",
    "        else:\n",
    "            return davies_bouldin_score(self.best_points,self.label)\n",
    "        \n",
    "    def hopkinsCoef(self):\n",
    "        # Average on different random data generated in Hopkins\n",
    "        H = []\n",
    "        if mat == ['EDA']:\n",
    "            n = len(ISC_EDA)\n",
    "        elif mat == ['IBI']:\n",
    "            n = len(ISC_IBI)\n",
    "        for p in range(100):\n",
    "            H.append(hopkins(self.best_points,n)) \n",
    "        self.hopkins = [1-np.mean(H),np.std(H)]\n",
    "        \n",
    "        # Raise a warning if Hopkins test <= 0.5\n",
    "        if (self.hopkins[0]<=0.5):\n",
    "            warnings.warn(\"Hopkins test <= 0.5 : data set does not have clustering tendency\")\n",
    "            \n",
    "    def silhouetteCoef(self):\n",
    "        # Compute Silhouette Coefficient based on distance matrix (the closer it is to 1, the better the clustering is)\n",
    "        if len(np.unique(self.label))==1:\n",
    "            warnings.warn(\"Labels correspond to only 1 group\")\n",
    "            return -1\n",
    "        elif len(np.unique(self.label))==len(ISC_EDA):\n",
    "            warnings.warn(\"Each participant correspond to one label\")\n",
    "            return -1\n",
    "        elif len(np.unique(self.label))==len(ISC_IBI):\n",
    "            warnings.warn(\"Each participant correspond to one label\")\n",
    "            return -1\n",
    "        else:\n",
    "            return silhouette_score(self.best_points, self.label, metric='euclidean')\n",
    "        \n",
    "    def accuracy(self):\n",
    "        self.trueGroups = []\n",
    "        for i in range(n_clusters):\n",
    "            self.trueGroups.append(np.where(self.condition == i)[0])\n",
    "        \n",
    "        # Find which participants are misclassified and compute accuracy\n",
    "        if mat == ['EDA']:\n",
    "            subjects = np.arange(len(ISC_EDA))\n",
    "        elif mat == ['IBI']:\n",
    "            subjects = np.arange(len(ISC_IBI))\n",
    "        self.wellClassified = subjects[self.label==condition]\n",
    "        self.misClassified = subjects[self.label!=self.condition]\n",
    "        '''if (len(self.misClassified) > len(self.wellClassified)):\n",
    "            self.wellClassified, self.misClassified = self.misClassified, self.wellClassified\n",
    "        \n",
    "        return len(self.wellClassified) / len(ISC_EDA)\n",
    "        '''\n",
    "        print(len(ISC_IBI))\n",
    "        print(self.condition)\n",
    "        print(self.label)\n",
    "        return accuracy(self.condition,self.label)"
   ]
  },
  {
   "cell_type": "code",
   "execution_count": 11,
   "metadata": {},
   "outputs": [],
   "source": [
    "# Choose which matrix or matrices to study\n",
    "mat = ['EDA']\n",
    "#mat = ['EDA','IBI']\n",
    "\n",
    "# Decide if compare to ground truth\n",
    "groundTruth = True\n",
    "\n",
    "# Display found clusters or true clusters with misclassified participants in black\n",
    "trueDisplay = True\n",
    "\n",
    "# Choose mapping method\n",
    "#mapping = 'UMAP'\n",
    "#mapping = 'MDS'\n",
    "#mapping = 'MDS_scale'\n",
    "mapping = 'SC'\n",
    "#mapping = 'None'\n",
    "\n",
    "# Choose clustering algorithm\n",
    "algo = 'K-Means'\n",
    "#algo = 'Spectral Clustering'\n",
    "#algo = 'Hierarchical Clustering'\n",
    "#algo = 'K-Medoids'\n",
    "\n",
    "#algo = 'Spectral Clustering distance'\n",
    "#algo = 'Hierarchical Clustering distance'"
   ]
  },
  {
   "cell_type": "code",
   "execution_count": 12,
   "metadata": {},
   "outputs": [
    {
     "name": "stdout",
     "output_type": "stream",
     "text": [
      "[ 1  1  1  1  1  1  1  1  1  1  2  2  3  4  4  4  4  4  5  5  5  6  6  6\n",
      "  6  7  7  7  8  8  8  8  8  9  9  9  9  9 10 11 11 11 11 11 11 11 11 11\n",
      " 11 11 12 12 12 12 12 13 13 13 13 13 13 13 14 15 15 15 15 15 15 15 16 16\n",
      " 16 16 16 16 16 16 16 16 17 17 17 17 17]\n",
      "[ 1  1  1  1  1  1  1  1  1  1  2  2  3  4  4  4  4  4  5  5  5  6  6  6\n",
      "  6  7  7  7  8  8  8  8  8  9  9  9  9  9 10 11 11 11 11 11 11 11 11 11\n",
      " 11 11 12 12 12 12 12 13 13 13 13 13 13 13 14 15 15 15 15 15 15 15 16 16\n",
      " 16 16 16 16 16 16 16 16 17 17 17 17 17]\n",
      "[ 1  1  1  1  1  1  1  1  1  1  2  2  3  4  4  4  4  4  5  5  5  6  6  6\n",
      "  6  7  7  7  8  8  8  8  8  9  9  9  9  9 10 11 11 11 11 11 11 11 11 11\n",
      " 11 11 12 12 12 12 12 13 13 13 13 13 13 13 14 15 15 15 15 15 15 15 16 16\n",
      " 16 16 16 16 16 16 16 16 17 17 17 17 17]\n",
      "[ 1  1  1  1  1  1  1  1  1  1  2  2  3  4  4  4  4  4  5  5  5  6  6  6\n",
      "  6  7  7  7  8  8  8  8  8  9  9  9  9  9 10 11 11 11 11 11 11 11 11 11\n",
      " 11 11 12 12 12 12 12 13 13 13 13 13 13 13 14 15 15 15 15 15 15 15 16 16\n",
      " 16 16 16 16 16 16 16 16 17 17 17 17 17]\n"
     ]
    }
   ],
   "source": [
    "# Read true labels from CSV file\n",
    "condition = np.genfromtxt(os.path.join('conditionSchool_%s.csv' %mat[0]),delimiter=',')\n",
    "condition = np.array(condition,dtype='int') # Convert into array\n",
    "print(condition)\n",
    "condition = condition*sum([condition==studiedClasses[i] for i in range(len(studiedClasses))])\n",
    "print(condition)\n",
    "\n",
    "import scipy.stats as ss\n",
    "condition = condition[condition!=0]\n",
    "print(condition)\n",
    "\n",
    "condition = ss.rankdata(condition,method='dense')\n",
    "print(condition)\n",
    "\n",
    "nClusters = len(np.unique(condition))\n",
    "nPeriod = len(studiedPeriods)\n",
    "nParticipants = len(condition)\n",
    "    \n",
    "if mat == ['EDA']:\n",
    "    condition_EDA = removeSubjectsVector(condition,subjectsRemoved_EDA) - 1\n",
    "    condition = condition_EDA\n",
    "elif mat == ['IBI']:\n",
    "    condition_IBI = removeSubjectsVector(condition,subjectsRemoved_IBI) - 1\n",
    "    condition = condition_IBI\n",
    "    \n"
   ]
  },
  {
   "cell_type": "code",
   "execution_count": 13,
   "metadata": {},
   "outputs": [
    {
     "name": "stdout",
     "output_type": "stream",
     "text": [
      "17\n",
      "17\n",
      "Blind results\n",
      "\n",
      "Hopkins test\n",
      "0.650749 +- 0.020572\n",
      "Found clusters \n",
      "[ 2  5 12 13  0 15 11  5  6  1  9 11 14  4 10  8 12  9  0 10  3  8 16  5\n",
      " 11  5  5  0  5 10 14 12  3  0  4 16  4  9  4 13 16  0 16 10  1  4 16  4\n",
      "  6 12  7 10 11 16  1  4  3  5 16  0  3  3  0  4  9  3 12  0  3  0  7]\n",
      "Silhouette coefficient : 0.431\n",
      "DB index : 0.549871 \n",
      "\n",
      "\n",
      "Comparing to ground truth\n",
      "\n",
      "71\n",
      "[ 0  0  0  0  0  0  0  0  0  0  1  1  2  3  3  3  3  4  4  5  5  5  5  6\n",
      "  6  6  7  7  7  7  7  8  8  8  8  8  9 10 10 10 10 10 10 10 10 10 10 10\n",
      " 11 11 11 11 12 12 12 12 12 12 12 13 14 14 14 14 14 14 14 16 16 16 16]\n",
      "[ 2  5 12 13  0 15 11  5  6  1  9 11 14  4 10  8 12  9  0 10  3  8 16  5\n",
      " 11  5  5  0  5 10 14 12  3  0  4 16  4  9  4 13 16  0 16 10  1  4 16  4\n",
      "  6 12  7 10 11 16  1  4  3  5 16  0  3  3  0  4  9  3 12  0  3  0  7]\n",
      "Accuracy : 0.281690 \n",
      "Misclassified participants : [0, 1, 2, 3, 5, 6, 7, 8, 9, 10, 11, 12, 13, 14, 15, 16, 17, 18, 19, 20, 21, 22, 23, 24, 25, 26, 27, 28, 29, 30, 31, 32, 33, 34, 35, 36, 37, 38, 39, 40, 41, 42, 44, 45, 46, 47, 48, 49, 50, 51, 52, 53, 54, 55, 56, 57, 58, 59, 60, 61, 62, 63, 64, 65, 66, 67, 68, 69, 70]\n"
     ]
    },
    {
     "name": "stderr",
     "output_type": "stream",
     "text": [
      "//anaconda3/lib/python3.7/site-packages/sklearn/utils/linear_assignment_.py:128: FutureWarning: The linear_assignment function is deprecated in 0.21 and will be removed from 0.23. Use scipy.optimize.linear_sum_assignment instead.\n",
      "  FutureWarning)\n"
     ]
    },
    {
     "data": {
      "text/plain": [
       "'\\nfrom sklearn.metrics import homogeneity_score\\ncondition = np.genfromtxt(os.path.join(\\'conditionSchool_%s.csv\\' %mat[0]),delimiter=\\',\\')\\ncondition = np.array(condition,dtype=\\'int\\') # Convert into array\\nif mat == [\\'EDA\\']:\\n    condition = removeSubjectsVector(condition,subjectsRemoved_EDA)\\nelif mat == [\\'IBI\\']:\\n    condition = removeSubjectsVector(condition,subjectsRemoved_IBI)\\nprint(\"homogeneity\")\\nprint(homogeneity_score(condition,method_result.label))\\n'"
      ]
     },
     "execution_count": 13,
     "metadata": {},
     "output_type": "execute_result"
    },
    {
     "data": {
      "image/png": "[encoded data removed]",
      "text/plain": [
       "<Figure size 432x288 with 1 Axes>"
      ]
     },
     "metadata": {
      "needs_background": "light"
     },
     "output_type": "display_data"
    },
    {
     "data": {
      "text/plain": [
       "<Figure size 432x288 with 0 Axes>"
      ]
     },
     "metadata": {},
     "output_type": "display_data"
    },
    {
     "data": {
      "image/png": "[encoded data removed]",
      "text/plain": [
       "<Figure size 432x288 with 1 Axes>"
      ]
     },
     "metadata": {
      "needs_background": "light"
     },
     "output_type": "display_data"
    }
   ],
   "source": [
    "# Compute chosen clustering\n",
    "method_result = Results(mat=mat,mapping=mapping,algo=algo,condition=condition)\n",
    "n_clusters = nClusters*nPeriod\n",
    "print(n_clusters)\n",
    "print(nClusters)\n",
    "dim = 2\n",
    "\n",
    "if (algo == 'K-Means'):\n",
    "    method = KMeans(n_clusters=n_clusters,n_init=100)\n",
    "elif (algo == 'Spectral Clustering'):\n",
    "    method = SpectralClustering(n_clusters=n_clusters,n_init=10,gamma=1)\n",
    "elif (algo == 'K-Medoids'):\n",
    "    method = KMedoids(n_clusters=n_clusters,tmax=1000)\n",
    "elif (algo == 'Hierarchical Clustering'):\n",
    "    method = AgglomerativeClustering(n_clusters=n_clusters,linkage=\"ward\")\n",
    "    \n",
    "elif (algo == 'Spectral Clustering distance'):\n",
    "    method = SpectralClustering(n_clusters=n_clusters,n_init=10,gamma=1,affinity='precomputed')\n",
    "elif (algo == 'Hierarchical Clustering distance'):\n",
    "    method = AgglomerativeClustering(n_clusters=n_clusters,linkage=\"single\",affinity='precomputed')\n",
    "#elif (algo == 'Hierarchical Clustering distance'): # ward doesnt work with precomputed matrix\n",
    "#    method = AgglomerativeClustering(n_clusters=n_clusters,linkage=\"ward\",affinity='precomputed')\n",
    "        \n",
    "method_result.applyMethod(method)\n",
    "\n",
    "# Show results\n",
    "method_result.twoClustersMethodResult()\n",
    "method_result.showResultMap()\n",
    "\n",
    "plt.figure()\n",
    "groundTruth = False\n",
    "trueDisplay = False\n",
    "method_result.showResultMap()\n",
    "\n",
    "'''\n",
    "from sklearn.metrics import homogeneity_score\n",
    "condition = np.genfromtxt(os.path.join('conditionSchool_%s.csv' %mat[0]),delimiter=',')\n",
    "condition = np.array(condition,dtype='int') # Convert into array\n",
    "if mat == ['EDA']:\n",
    "    condition = removeSubjectsVector(condition,subjectsRemoved_EDA)\n",
    "elif mat == ['IBI']:\n",
    "    condition = removeSubjectsVector(condition,subjectsRemoved_IBI)\n",
    "print(\"homogeneity\")\n",
    "print(homogeneity_score(condition,method_result.label))\n",
    "'''"
   ]
  },
  {
   "cell_type": "markdown",
   "metadata": {},
   "source": [
    "## Change dim"
   ]
  },
  {
   "cell_type": "code",
   "execution_count": 14,
   "metadata": {},
   "outputs": [
    {
     "name": "stdout",
     "output_type": "stream",
     "text": [
      "71\n",
      "[ 0  0  0  0  0  0  0  0  0  0  1  1  2  3  3  3  3  4  4  5  5  5  5  6\n",
      "  6  6  7  7  7  7  7  8  8  8  8  8  9 10 10 10 10 10 10 10 10 10 10 10\n",
      " 11 11 11 11 12 12 12 12 12 12 12 13 14 14 14 14 14 14 14 16 16 16 16]\n",
      "[10  2  7  8  0  5 14  2  4 16 11 14  1  6 12  9  7 11  0 12  3  9 15  2\n",
      " 14  2  2  0  2 12  1  7  3  0  6 15  6 11  6  8 15  0 15 12 16  6 15  6\n",
      "  4  7 13 12 14 15 16  6  3  2 15  0  3  3  0  6 11  3  7  0  3  0 13]\n"
     ]
    },
    {
     "name": "stderr",
     "output_type": "stream",
     "text": [
      "//anaconda3/lib/python3.7/site-packages/sklearn/utils/linear_assignment_.py:128: FutureWarning: The linear_assignment function is deprecated in 0.21 and will be removed from 0.23. Use scipy.optimize.linear_sum_assignment instead.\n",
      "  FutureWarning)\n"
     ]
    },
    {
     "name": "stdout",
     "output_type": "stream",
     "text": [
      "71\n",
      "[ 0  0  0  0  0  0  0  0  0  0  1  1  2  3  3  3  3  4  4  5  5  5  5  6\n",
      "  6  6  7  7  7  7  7  8  8  8  8  8  9 10 10 10 10 10 10 10 10 10 10 10\n",
      " 11 11 11 11 12 12 12 12 12 12 12 13 14 14 14 14 14 14 14 16 16 16 16]\n",
      "[ 6 11 13 12 16 10  0  0 15  5 10  4  4  1  1  5  3 10  0  7 10  5  4 11\n",
      "  4  0  0  9  0  8  4  3  2  3  8  4  8 14  8 12  4  3  3  1  5  4  3  1\n",
      " 15  3 13  1 11  3  5  8  2 11  3  0  2  2  9  1 10  2  3 16  2  9 12]\n"
     ]
    },
    {
     "name": "stderr",
     "output_type": "stream",
     "text": [
      "//anaconda3/lib/python3.7/site-packages/sklearn/utils/linear_assignment_.py:128: FutureWarning: The linear_assignment function is deprecated in 0.21 and will be removed from 0.23. Use scipy.optimize.linear_sum_assignment instead.\n",
      "  FutureWarning)\n"
     ]
    },
    {
     "name": "stdout",
     "output_type": "stream",
     "text": [
      "71\n",
      "[ 0  0  0  0  0  0  0  0  0  0  1  1  2  3  3  3  3  4  4  5  5  5  5  6\n",
      "  6  6  7  7  7  7  7  8  8  8  8  8  9 10 10 10 10 10 10 10 10 10 10 10\n",
      " 11 11 11 11 12 12 12 12 12 12 12 13 14 14 14 14 14 14 14 16 16 16 16]\n",
      "[ 7 14 14 14  0 16 15  4  3  1  1 12 12 12  6  1 10  1 15  5  1 16  3  2\n",
      " 12  4  4  8  4 13 12 10  1 10  5 12 13  8  5  4 12 10 10  6 13  3 15  3\n",
      " 11 11  2  6  1 10  5  5  1  8 10 10  9  1  2  6  9  1  0  0  9  2  4]\n"
     ]
    },
    {
     "name": "stderr",
     "output_type": "stream",
     "text": [
      "//anaconda3/lib/python3.7/site-packages/sklearn/utils/linear_assignment_.py:128: FutureWarning: The linear_assignment function is deprecated in 0.21 and will be removed from 0.23. Use scipy.optimize.linear_sum_assignment instead.\n",
      "  FutureWarning)\n"
     ]
    },
    {
     "name": "stdout",
     "output_type": "stream",
     "text": [
      "71\n",
      "[ 0  0  0  0  0  0  0  0  0  0  1  1  2  3  3  3  3  4  4  5  5  5  5  6\n",
      "  6  6  7  7  7  7  7  8  8  8  8  8  9 10 10 10 10 10 10 10 10 10 10 10\n",
      " 11 11 11 11 12 12 12 12 12 12 12 13 14 14 14 14 14 14 14 16 16 16 16]\n",
      "[10  1  1  1  4 10  8  2  6  0  9 16  5  6  6  0  4  7  1 13  0  0  1 16\n",
      "  5  2  2  3  2 14 15  8 15  4  4  5 14  3  8  2 16  4  8  5 14  6  4  6\n",
      " 11 11 16 14  9  4  0 14  9 15  4 13  7  9 16  5  7 15 13 13  7 16 12]\n"
     ]
    },
    {
     "name": "stderr",
     "output_type": "stream",
     "text": [
      "//anaconda3/lib/python3.7/site-packages/sklearn/utils/linear_assignment_.py:128: FutureWarning: The linear_assignment function is deprecated in 0.21 and will be removed from 0.23. Use scipy.optimize.linear_sum_assignment instead.\n",
      "  FutureWarning)\n"
     ]
    },
    {
     "name": "stdout",
     "output_type": "stream",
     "text": [
      "71\n",
      "[ 0  0  0  0  0  0  0  0  0  0  1  1  2  3  3  3  3  4  4  5  5  5  5  6\n",
      "  6  6  7  7  7  7  7  8  8  8  8  8  9 10 10 10 10 10 10 10 10 10 10 10\n",
      " 11 11 11 11 12 12 12 12 12 12 12 13 14 14 14 14 14 14 14 16 16 16 16]\n",
      "[13  1  1  1  5  3 16  5  1 15  0  1  4  4  4  9  8 11 16  6 15  3  1  2\n",
      "  2  8  5  1  0 14 11  7 11  8 15  2 15 13  6  5  4  8  7  9 14  4 16  4\n",
      "  7 10  1  9  0  8 15 15  0 11  8  8 14  0  8  2 12 11  7  5 14  1 10]\n"
     ]
    },
    {
     "name": "stderr",
     "output_type": "stream",
     "text": [
      "//anaconda3/lib/python3.7/site-packages/sklearn/utils/linear_assignment_.py:128: FutureWarning: The linear_assignment function is deprecated in 0.21 and will be removed from 0.23. Use scipy.optimize.linear_sum_assignment instead.\n",
      "  FutureWarning)\n"
     ]
    },
    {
     "name": "stdout",
     "output_type": "stream",
     "text": [
      "71\n",
      "[ 0  0  0  0  0  0  0  0  0  0  1  1  2  3  3  3  3  4  4  5  5  5  5  6\n",
      "  6  6  7  7  7  7  7  8  8  8  8  8  9 10 10 10 10 10 10 10 10 10 10 10\n",
      " 11 11 11 11 12 12 12 12 12 12 12 13 14 14 14 14 14 14 14 16 16 16 16]\n",
      "[16  6  6  3  8 15  2  3  9  5  4  6 10  0  0  5  7  1  2  8 15 15  9  7\n",
      " 11  7  3  6  7  5  1  9  1  7  2 11  5 16  8  3 10 10  9 14 13  0  2 10\n",
      "  9 12  6 14  4  7  5  5  4  1  7  1 13  4  4 14  1 11  1  3 11  6 12]\n"
     ]
    },
    {
     "name": "stderr",
     "output_type": "stream",
     "text": [
      "//anaconda3/lib/python3.7/site-packages/sklearn/utils/linear_assignment_.py:128: FutureWarning: The linear_assignment function is deprecated in 0.21 and will be removed from 0.23. Use scipy.optimize.linear_sum_assignment instead.\n",
      "  FutureWarning)\n"
     ]
    },
    {
     "name": "stdout",
     "output_type": "stream",
     "text": [
      "71\n",
      "[ 0  0  0  0  0  0  0  0  0  0  1  1  2  3  3  3  3  4  4  5  5  5  5  6\n",
      "  6  6  7  7  7  7  7  8  8  8  8  8  9 10 10 10 10 10 10 10 10 10 10 10\n",
      " 11 11 11 11 12 12 12 12 12 12 12 13 14 14 14 14 14 14 14 16 16 16 16]\n",
      "[ 6  3  2  2 10  4  7 12  8  9 10  2 15  8  8  9  0 13  0 12  4  4  7 13\n",
      "  1  0  0  2  0  9 15  7 15  0  5  1  9  1 11  2 15  3  7 11 11  8  5  8\n",
      "  1 16  2 11 10  0  9  9 10 15  0  3 13  0  0 15 14  1  3 12  1  2 16]\n"
     ]
    },
    {
     "name": "stderr",
     "output_type": "stream",
     "text": [
      "//anaconda3/lib/python3.7/site-packages/sklearn/utils/linear_assignment_.py:128: FutureWarning: The linear_assignment function is deprecated in 0.21 and will be removed from 0.23. Use scipy.optimize.linear_sum_assignment instead.\n",
      "  FutureWarning)\n"
     ]
    },
    {
     "name": "stdout",
     "output_type": "stream",
     "text": [
      "71\n",
      "[ 0  0  0  0  0  0  0  0  0  0  1  1  2  3  3  3  3  4  4  5  5  5  5  6\n",
      "  6  6  7  7  7  7  7  8  8  8  8  8  9 10 10 10 10 10 10 10 10 10 10 10\n",
      " 11 11 11 11 12 12 12 12 12 12 12 13 14 14 14 14 14 14 14 16 16 16 16]\n",
      "[16  5  5  5  7 10  6  4  6  1  8  0 12 13 13  1 14  4  7 15  4 10  6  4\n",
      "  2 14 14  5  4  1  3  6  3  7 13  6  1  2 11  5  7  4  6  0  0 13 13 12\n",
      "  6  9  5 11  8  7  1  1  8  3 13 12  0  8  8  3  3  2 12  4  9  5  5]\n"
     ]
    },
    {
     "name": "stderr",
     "output_type": "stream",
     "text": [
      "//anaconda3/lib/python3.7/site-packages/sklearn/utils/linear_assignment_.py:128: FutureWarning: The linear_assignment function is deprecated in 0.21 and will be removed from 0.23. Use scipy.optimize.linear_sum_assignment instead.\n",
      "  FutureWarning)\n"
     ]
    },
    {
     "name": "stdout",
     "output_type": "stream",
     "text": [
      "71\n",
      "[ 0  0  0  0  0  0  0  0  0  0  1  1  2  3  3  3  3  4  4  5  5  5  5  6\n",
      "  6  6  7  7  7  7  7  8  8  8  8  8  9 10 10 10 10 10 10 10 10 10 10 10\n",
      " 11 11 11 11 12 12 12 12 12 12 12 13 14 14 14 14 14 14 14 16 16 16 16]\n",
      "[14  1  1  1 11  7 12  5 12 13  3  9 16 10 10  4  3  6  8 11  5  7 12  5\n",
      " 13  8 15  1  5  4 16 12 16  8  0  2  4 12 11  1  8  8 12  9  4 10  0  6\n",
      "  2  2  1  9  3  8  4  4  8 16  5  6  8  4  3  2 16 13  6  5  2  2  1]\n"
     ]
    },
    {
     "name": "stderr",
     "output_type": "stream",
     "text": [
      "//anaconda3/lib/python3.7/site-packages/sklearn/utils/linear_assignment_.py:128: FutureWarning: The linear_assignment function is deprecated in 0.21 and will be removed from 0.23. Use scipy.optimize.linear_sum_assignment instead.\n",
      "  FutureWarning)\n"
     ]
    },
    {
     "name": "stdout",
     "output_type": "stream",
     "text": [
      "71\n",
      "[ 0  0  0  0  0  0  0  0  0  0  1  1  2  3  3  3  3  4  4  5  5  5  5  6\n",
      "  6  6  7  7  7  7  7  8  8  8  8  8  9 10 10 10 10 10 10 10 10 10 10 10\n",
      " 11 11 11 11 12 12 12 12 12 12 12 13 14 14 14 14 14 14 14 16 16 16 16]\n",
      "[12  5  7  7  5 15 14  6 14 10  3  1  9  4  4 11  3  2  8  2 15 15 14  6\n",
      "  6  8  2 14  6 10  9 14  9  8  4 13 10 14 14  7  8  8 14  1 11  5  4  9\n",
      " 13  0  7  1 16  5 10  5 16  9  4  2  5 16  3 13  0  6  2  2  0  7  7]\n"
     ]
    },
    {
     "name": "stderr",
     "output_type": "stream",
     "text": [
      "//anaconda3/lib/python3.7/site-packages/sklearn/utils/linear_assignment_.py:128: FutureWarning: The linear_assignment function is deprecated in 0.21 and will be removed from 0.23. Use scipy.optimize.linear_sum_assignment instead.\n",
      "  FutureWarning)\n"
     ]
    },
    {
     "name": "stdout",
     "output_type": "stream",
     "text": [
      "71\n",
      "[ 0  0  0  0  0  0  0  0  0  0  1  1  2  3  3  3  3  4  4  5  5  5  5  6\n",
      "  6  6  7  7  7  7  7  8  8  8  8  8  9 10 10 10 10 10 10 10 10 10 10 10\n",
      " 11 11 11 11 12 12 12 12 12 12 12 13 14 14 14 14 14 14 14 16 16 16 16]\n",
      "[ 1  4 14  7  4 12  5  9 10 13  8 14  6  0  0 13 15  3 11  3  3 12 10  2\n",
      "  2 15 15  7  9 13  6  5  4  1  0  5 13 10 16  1 11 11  5 13 13  0  7  6\n",
      "  5  3 14 13  1  4 16  0  1  6  0  6  1  1  8  5  2  2  3  3 13 14 14]\n"
     ]
    },
    {
     "name": "stderr",
     "output_type": "stream",
     "text": [
      "//anaconda3/lib/python3.7/site-packages/sklearn/utils/linear_assignment_.py:128: FutureWarning: The linear_assignment function is deprecated in 0.21 and will be removed from 0.23. Use scipy.optimize.linear_sum_assignment instead.\n",
      "  FutureWarning)\n"
     ]
    },
    {
     "name": "stdout",
     "output_type": "stream",
     "text": [
      "71\n",
      "[ 0  0  0  0  0  0  0  0  0  0  1  1  2  3  3  3  3  4  4  5  5  5  5  6\n",
      "  6  6  7  7  7  7  7  8  8  8  8  8  9 10 10 10 10 10 10 10 10 10 10 10\n",
      " 11 11 11 11 12 12 12 12 12 12 12 13 14 14 14 14 14 14 14 16 16 16 16]\n",
      "[ 9  5  5  9  6  9 15  5  7  6  9  1  2 14 14 13 11  0 10  8  8  8  7  4\n",
      "  4 11 11  1  5  1  2 15  2  6 15 15  6  7  1 16 10  8 15  1 13  6  8  2\n",
      " 15  0 16  1  3  6  6  6 13  2 14  2 13  3 14 15 12  4  0  0  0 16  0]\n"
     ]
    },
    {
     "name": "stderr",
     "output_type": "stream",
     "text": [
      "//anaconda3/lib/python3.7/site-packages/sklearn/utils/linear_assignment_.py:128: FutureWarning: The linear_assignment function is deprecated in 0.21 and will be removed from 0.23. Use scipy.optimize.linear_sum_assignment instead.\n",
      "  FutureWarning)\n"
     ]
    },
    {
     "name": "stdout",
     "output_type": "stream",
     "text": [
      "71\n",
      "[ 0  0  0  0  0  0  0  0  0  0  1  1  2  3  3  3  3  4  4  5  5  5  5  6\n",
      "  6  6  7  7  7  7  7  8  8  8  8  8  9 10 10 10 10 10 10 10 10 10 10 10\n",
      " 11 11 11 11 12 12 12 12 12 12 12 13 14 14 14 14 14 14 14 16 16 16 16]\n",
      "[ 0  7  7 13  9  3  1  7  1 10  6  2 10 12 12 16  8  5 14  3  3  3  1  4\n",
      "  4  5  5 10  5  2 10  1  7  9  9  1  9  1  2 11 14  5  1  2 16  9 13  9\n",
      "  9 15 11  2  8  9  9  9  9 10 12  5 16  8  8  2  5  4  5  5  5  2 15]\n"
     ]
    },
    {
     "name": "stderr",
     "output_type": "stream",
     "text": [
      "//anaconda3/lib/python3.7/site-packages/sklearn/utils/linear_assignment_.py:128: FutureWarning: The linear_assignment function is deprecated in 0.21 and will be removed from 0.23. Use scipy.optimize.linear_sum_assignment instead.\n",
      "  FutureWarning)\n"
     ]
    },
    {
     "name": "stdout",
     "output_type": "stream",
     "text": [
      "71\n",
      "[ 0  0  0  0  0  0  0  0  0  0  1  1  2  3  3  3  3  4  4  5  5  5  5  6\n",
      "  6  6  7  7  7  7  7  8  8  8  8  8  9 10 10 10 10 10 10 10 10 10 10 10\n",
      " 11 11 11 11 12 12 12 12 12 12 12 13 14 14 14 14 14 14 14 16 16 16 16]\n",
      "[16  3  5 13  0  8  1  2  5  9  9  4 12 12 12 15  9  7 14  7  7  8 10 12\n",
      " 15  9  8  0  2 12  9  1  3  6  9 10  9 10  0  6 14 14 10  4 15  6  5  9\n",
      " 10 15 13  0 11  6  1  9  6  5 12  9  6  6 11 10 15 12  7  7 15  4  5]\n"
     ]
    },
    {
     "name": "stderr",
     "output_type": "stream",
     "text": [
      "//anaconda3/lib/python3.7/site-packages/sklearn/utils/linear_assignment_.py:128: FutureWarning: The linear_assignment function is deprecated in 0.21 and will be removed from 0.23. Use scipy.optimize.linear_sum_assignment instead.\n",
      "  FutureWarning)\n"
     ]
    },
    {
     "name": "stdout",
     "output_type": "stream",
     "text": [
      "71\n",
      "[ 0  0  0  0  0  0  0  0  0  0  1  1  2  3  3  3  3  4  4  5  5  5  5  6\n",
      "  6  6  7  7  7  7  7  8  8  8  8  8  9 10 10 10 10 10 10 10 10 10 10 10\n",
      " 11 11 11 11 12 12 12 12 12 12 12 13 14 14 14 14 14 14 14 16 16 16 16]\n",
      "[10  8  6  9  8  4  3  1  6  1 16  6  5 12  8  2 12  5 11  5 14 14  3  8\n",
      "  3  9  4  9  1 14 15  3 13  8  1  3  8  3  0  8 11 11  3  6  2  8  1  4\n",
      "  3  5  6  0 12  8  7  8  8 13 12  5  8 12 12  3 13 13  5  5  2  6  6]\n"
     ]
    },
    {
     "name": "stderr",
     "output_type": "stream",
     "text": [
      "//anaconda3/lib/python3.7/site-packages/sklearn/utils/linear_assignment_.py:128: FutureWarning: The linear_assignment function is deprecated in 0.21 and will be removed from 0.23. Use scipy.optimize.linear_sum_assignment instead.\n",
      "  FutureWarning)\n"
     ]
    },
    {
     "name": "stdout",
     "output_type": "stream",
     "text": [
      "71\n",
      "[ 0  0  0  0  0  0  0  0  0  0  1  1  2  3  3  3  3  4  4  5  5  5  5  6\n",
      "  6  6  7  7  7  7  7  8  8  8  8  8  9 10 10 10 10 10 10 10 10 10 10 10\n",
      " 11 11 11 11 12 12 12 12 12 12 12 13 14 14 14 14 14 14 14 16 16 16 16]\n",
      "[ 8 15  2  4 16  7 14  2  2  3 12  2  7 10 10  4 16  9 13  9  7  7  5  1\n",
      "  1  4  9  4 16 16  3  5 15  8  6 11 16  5  7  8 13  2  5 10 16  8  2  0\n",
      " 11 11 15  5 16  8 14 16  8  1  1 15  8  8  1 11 16  1  9  9 11 11  2]\n"
     ]
    },
    {
     "name": "stderr",
     "output_type": "stream",
     "text": [
      "//anaconda3/lib/python3.7/site-packages/sklearn/utils/linear_assignment_.py:128: FutureWarning: The linear_assignment function is deprecated in 0.21 and will be removed from 0.23. Use scipy.optimize.linear_sum_assignment instead.\n",
      "  FutureWarning)\n"
     ]
    },
    {
     "name": "stdout",
     "output_type": "stream",
     "text": [
      "71\n",
      "[ 0  0  0  0  0  0  0  0  0  0  1  1  2  3  3  3  3  4  4  5  5  5  5  6\n",
      "  6  6  7  7  7  7  7  8  8  8  8  8  9 10 10 10 10 10 10 10 10 10 10 10\n",
      " 11 11 11 11 12 12 12 12 12 12 12 13 14 14 14 14 14 14 14 16 16 16 16]\n",
      "[ 5  7 14  4  8 11  0 14 14 12 12 15  3  9  6  4  4  1 10  8  8 11 13  6\n",
      "  6  4 11  4 16 16 12 14  7  5  2  2 12 13  8  1 10 10 13 15 15  5 12  3\n",
      "  2  2  5  8 14  5  0  4  5 14  6  3  5  5  9  2  6 13  3  1  2  2 14]\n"
     ]
    },
    {
     "name": "stderr",
     "output_type": "stream",
     "text": [
      "//anaconda3/lib/python3.7/site-packages/sklearn/utils/linear_assignment_.py:128: FutureWarning: The linear_assignment function is deprecated in 0.21 and will be removed from 0.23. Use scipy.optimize.linear_sum_assignment instead.\n",
      "  FutureWarning)\n"
     ]
    },
    {
     "name": "stdout",
     "output_type": "stream",
     "text": [
      "71\n",
      "[ 0  0  0  0  0  0  0  0  0  0  1  1  2  3  3  3  3  4  4  5  5  5  5  6\n",
      "  6  6  7  7  7  7  7  8  8  8  8  8  9 10 10 10 10 10 10 10 10 10 10 10\n",
      " 11 11 11 11 12 12 12 12 12 12 12 13 14 14 14 14 14 14 14 16 16 16 16]\n",
      "[ 6 11  3  8  7 14  5  3  3  2  2 12 16  4  4  6  2 14 14  9  9 12  0 13\n",
      " 13  8  9  8  2  2  2  2 11  7  2 15  2  6  1 14 10 10  0 12  2  7  2 12\n",
      "  2  9  7  1  2  7  5  2  7  3  3 16  7  7  4 15  6  4 16  9  6 12  3]\n"
     ]
    },
    {
     "name": "stderr",
     "output_type": "stream",
     "text": [
      "//anaconda3/lib/python3.7/site-packages/sklearn/utils/linear_assignment_.py:128: FutureWarning: The linear_assignment function is deprecated in 0.21 and will be removed from 0.23. Use scipy.optimize.linear_sum_assignment instead.\n",
      "  FutureWarning)\n"
     ]
    },
    {
     "name": "stdout",
     "output_type": "stream",
     "text": [
      "71\n",
      "[ 0  0  0  0  0  0  0  0  0  0  1  1  2  3  3  3  3  4  4  5  5  5  5  6\n",
      "  6  6  7  7  7  7  7  8  8  8  8  8  9 10 10 10 10 10 10 10 10 10 10 10\n",
      " 11 11 11 11 12 12 12 12 12 12 12 13 14 14 14 14 14 14 14 16 16 16 16]\n",
      "[12  5  2 11  9  1  1  3  7 13 12  2  0  8  8 16 11  8 10  4  0  0  6  8\n",
      " 15 11  1 14  3  7 13  4  5 12 16  7 16  6  4 12 10 10  6  7 12 16 13  7\n",
      "  2  2  2  4 11  3  7 16 12  5  3  3  3  3 14  8  5  6  3  1  2  2  2]\n"
     ]
    },
    {
     "name": "stderr",
     "output_type": "stream",
     "text": [
      "//anaconda3/lib/python3.7/site-packages/sklearn/utils/linear_assignment_.py:128: FutureWarning: The linear_assignment function is deprecated in 0.21 and will be removed from 0.23. Use scipy.optimize.linear_sum_assignment instead.\n",
      "  FutureWarning)\n"
     ]
    },
    {
     "name": "stdout",
     "output_type": "stream",
     "text": [
      "71\n",
      "[ 0  0  0  0  0  0  0  0  0  0  1  1  2  3  3  3  3  4  4  5  5  5  5  6\n",
      "  6  6  7  7  7  7  7  8  8  8  8  8  9 10 10 10 10 10 10 10 10 10 10 10\n",
      " 11 11 11 11 12 12 12 12 12 12 12 13 14 14 14 14 14 14 14 16 16 16 16]\n",
      "[15 16 12  6 16  6  5 12 12  9 16  3  0  0  0  6 11  6 14  5  2  5 10  0\n",
      "  4  6  2  6  4  4  9  4  5  1  5 13  4 10  5 16  8  8 10  3 16  7  9  7\n",
      "  7  3  3 10 11 16  1  7 16 12 12  1 16 11 11 13  6 10  5  2  3  3  3]\n"
     ]
    },
    {
     "name": "stderr",
     "output_type": "stream",
     "text": [
      "//anaconda3/lib/python3.7/site-packages/sklearn/utils/linear_assignment_.py:128: FutureWarning: The linear_assignment function is deprecated in 0.21 and will be removed from 0.23. Use scipy.optimize.linear_sum_assignment instead.\n",
      "  FutureWarning)\n"
     ]
    },
    {
     "name": "stdout",
     "output_type": "stream",
     "text": [
      "71\n",
      "[ 0  0  0  0  0  0  0  0  0  0  1  1  2  3  3  3  3  4  4  5  5  5  5  6\n",
      "  6  6  7  7  7  7  7  8  8  8  8  8  9 10 10 10 10 10 10 10 10 10 10 10\n",
      " 11 11 11 11 12 12 12 12 12 12 12 13 14 14 14 14 14 14 14 16 16 16 16]\n",
      "[ 0 14  9  3  5  2 10  9  9  3  5 11  6 15 15  5  1  3 13  7  2  2  8 14\n",
      "  4  7 12 11  1  1 11  1  6  5  1  5  1  8  4  5 13 13  8 11  5 11  3 11\n",
      "  7 12  7  4 14 16 11  1  5  6  9  7  5 14 16 13  1 15  7 12 10 11 10]\n"
     ]
    },
    {
     "name": "stderr",
     "output_type": "stream",
     "text": [
      "//anaconda3/lib/python3.7/site-packages/sklearn/utils/linear_assignment_.py:128: FutureWarning: The linear_assignment function is deprecated in 0.21 and will be removed from 0.23. Use scipy.optimize.linear_sum_assignment instead.\n",
      "  FutureWarning)\n"
     ]
    },
    {
     "name": "stdout",
     "output_type": "stream",
     "text": [
      "71\n",
      "[ 0  0  0  0  0  0  0  0  0  0  1  1  2  3  3  3  3  4  4  5  5  5  5  6\n",
      "  6  6  7  7  7  7  7  8  8  8  8  8  9 10 10 10 10 10 10 10 10 10 10 10\n",
      " 11 11 11 11 12 12 12 12 12 12 12 13 14 14 14 14 14 14 14 16 16 16 16]\n",
      "[ 5 14  5  9  1  4 13  5  9  9  8  4 10  6  6 15 14  2  7  2  2  4 11 12\n",
      " 12  3 13  4  5  2  4 11 10  0  2  4  4 11 11  1  7  7 11  4 15  4  9  4\n",
      "  2  2  3 11  1 14  0 14  0 10  6  3 15 14 16 10  3  6  3  2  4  4 13]\n"
     ]
    },
    {
     "name": "stderr",
     "output_type": "stream",
     "text": [
      "//anaconda3/lib/python3.7/site-packages/sklearn/utils/linear_assignment_.py:128: FutureWarning: The linear_assignment function is deprecated in 0.21 and will be removed from 0.23. Use scipy.optimize.linear_sum_assignment instead.\n",
      "  FutureWarning)\n"
     ]
    },
    {
     "name": "stdout",
     "output_type": "stream",
     "text": [
      "71\n",
      "[ 0  0  0  0  0  0  0  0  0  0  1  1  2  3  3  3  3  4  4  5  5  5  5  6\n",
      "  6  6  7  7  7  7  7  8  8  8  8  8  9 10 10 10 10 10 10 10 10 10 10 10\n",
      " 11 11 11 11 12 12 12 12 12 12 12 13 14 14 14 14 14 14 14 16 16 16 16]\n",
      "[ 8  5 13  0 15  2  7 13 13  0  0  2  4  9  9 16  5  6 10 14  6  2 11  5\n",
      "  3  5 16  2 13  2  2 13  4  7 14  2  1  8  3  2 10 10 11  2  2 12  0 13\n",
      " 12  1 11  3 15  2  7 16  7  4  9 11  2  5  9 10 11  9 11  1  1 13  1]\n"
     ]
    },
    {
     "name": "stderr",
     "output_type": "stream",
     "text": [
      "//anaconda3/lib/python3.7/site-packages/sklearn/utils/linear_assignment_.py:128: FutureWarning: The linear_assignment function is deprecated in 0.21 and will be removed from 0.23. Use scipy.optimize.linear_sum_assignment instead.\n",
      "  FutureWarning)\n"
     ]
    },
    {
     "name": "stdout",
     "output_type": "stream",
     "text": [
      "71\n",
      "[ 0  0  0  0  0  0  0  0  0  0  1  1  2  3  3  3  3  4  4  5  5  5  5  6\n",
      "  6  6  7  7  7  7  7  8  8  8  8  8  9 10 10 10 10 10 10 10 10 10 10 10\n",
      " 11 11 11 11 12 12 12 12 12 12 12 13 14 14 14 14 14 14 14 16 16 16 16]\n",
      "[ 2 10 13  2  4  2  9 13 13 13 14 11  5  1 12  4  3  0  2  4 15  2  6 12\n",
      " 13 13 15  6 13  5 16 13 16  9  4  0  3  8  4  2  7  7  5 11 11  8 13 13\n",
      "  8 15  6 13  3  6  9  4 12 16 13  6 12 12  1  0  3  1  6 15  3 13 15]\n"
     ]
    },
    {
     "name": "stderr",
     "output_type": "stream",
     "text": [
      "//anaconda3/lib/python3.7/site-packages/sklearn/utils/linear_assignment_.py:128: FutureWarning: The linear_assignment function is deprecated in 0.21 and will be removed from 0.23. Use scipy.optimize.linear_sum_assignment instead.\n",
      "  FutureWarning)\n"
     ]
    },
    {
     "name": "stdout",
     "output_type": "stream",
     "text": [
      "71\n",
      "[ 0  0  0  0  0  0  0  0  0  0  1  1  2  3  3  3  3  4  4  5  5  5  5  6\n",
      "  6  6  7  7  7  7  7  8  8  8  8  8  9 10 10 10 10 10 10 10 10 10 10 10\n",
      " 11 11 11 11 12 12 12 12 12 12 12 13 14 14 14 14 14 14 14 16 16 16 16]\n",
      "[ 0  1 13  3  1 14  4  7 13  9 11 11  7 12 12  2  8  8  8 14 12 14  7  2\n",
      "  2  7  4  3  8 14  9  2  6 10 14 15  8  3  2  1 16 16  7 14 11  2  9  8\n",
      "  2  4  7 11  1  0 10  2  0  6 13  7  9  2  3 15  8  5  7  4  4  4  4]\n"
     ]
    },
    {
     "name": "stderr",
     "output_type": "stream",
     "text": [
      "//anaconda3/lib/python3.7/site-packages/sklearn/utils/linear_assignment_.py:128: FutureWarning: The linear_assignment function is deprecated in 0.21 and will be removed from 0.23. Use scipy.optimize.linear_sum_assignment instead.\n",
      "  FutureWarning)\n"
     ]
    },
    {
     "name": "stdout",
     "output_type": "stream",
     "text": [
      "71\n",
      "[ 0  0  0  0  0  0  0  0  0  0  1  1  2  3  3  3  3  4  4  5  5  5  5  6\n",
      "  6  6  7  7  7  7  7  8  8  8  8  8  9 10 10 10 10 10 10 10 10 10 10 10\n",
      " 11 11 11 11 12 12 12 12 12 12 12 13 14 14 14 14 14 14 14 16 16 16 16]\n",
      "[11  4 13  4 14 11 16  9  2  2  2  5  7  7  7 14 13 11 11  0  4  0  4  7\n",
      " 14  5 16  6  9  0 15 11 15 10  0 15  1  3 14 11 10 10  7  0  5  3  2  7\n",
      "  3  1  4  4  7  6 16 14  7 15 13 14  5 12  8 10 15 16  0  1  1  7 16]\n"
     ]
    },
    {
     "name": "stderr",
     "output_type": "stream",
     "text": [
      "//anaconda3/lib/python3.7/site-packages/sklearn/utils/linear_assignment_.py:128: FutureWarning: The linear_assignment function is deprecated in 0.21 and will be removed from 0.23. Use scipy.optimize.linear_sum_assignment instead.\n",
      "  FutureWarning)\n"
     ]
    }
   ],
   "source": [
    "# Compute chosen clustering\n",
    "method_result = Results(mat=mat,mapping=mapping,algo=algo,condition=condition)\n",
    "accDim = []\n",
    "allDim = np.arange(2,int(nParticipants/3))\n",
    "\n",
    "if (algo == 'K-Means'):\n",
    "    method = KMeans(n_clusters=n_clusters,n_init=100)\n",
    "elif (algo == 'Spectral Clustering'):\n",
    "    method = SpectralClustering(n_clusters=n_clusters,n_init=10,gamma=1)\n",
    "elif (algo == 'K-Medoids'):\n",
    "    method = KMedoids(n_clusters=n_clusters,tmax=1000)\n",
    "elif (algo == 'Hierarchical Clustering'):\n",
    "    method = AgglomerativeClustering(n_clusters=n_clusters,linkage=\"ward\")\n",
    "\n",
    "for dim in allDim:\n",
    "    method_result.applyMethod(method)\n",
    "    accDim.append(method_result.accuracy())"
   ]
  },
  {
   "cell_type": "code",
   "execution_count": 15,
   "metadata": {},
   "outputs": [
    {
     "name": "stderr",
     "output_type": "stream",
     "text": [
      "No handles with labels found to put in legend.\n"
     ]
    },
    {
     "data": {
      "text/plain": [
       "<matplotlib.legend.Legend at 0x106830a20>"
      ]
     },
     "execution_count": 15,
     "metadata": {},
     "output_type": "execute_result"
    },
    {
     "data": {
      "image/png": "[encoded data removed]",
      "text/plain": [
       "<Figure size 432x288 with 1 Axes>"
      ]
     },
     "metadata": {
      "needs_background": "light"
     },
     "output_type": "display_data"
    }
   ],
   "source": [
    "plt.plot(allDim,accDim)\n",
    "plt.xlabel(\"number of dimensions\")\n",
    "plt.legend()"
   ]
  },
  {
   "cell_type": "code",
   "execution_count": null,
   "metadata": {},
   "outputs": [],
   "source": []
  }
 ],
 "metadata": {
  "kernelspec": {
   "display_name": "Python 3",
   "language": "python",
   "name": "python3"
  },
  "language_info": {
   "codemirror_mode": {
    "name": "ipython",
    "version": 3
   },
   "file_extension": ".py",
   "mimetype": "text/x-python",
   "name": "python",
   "nbconvert_exporter": "python",
   "pygments_lexer": "ipython3",
   "version": "3.7.3"
  }
 },
 "nbformat": 4,
 "nbformat_minor": 4
}
