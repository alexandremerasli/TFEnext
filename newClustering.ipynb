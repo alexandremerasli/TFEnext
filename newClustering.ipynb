{
 "cells": [
  {
   "cell_type": "markdown",
   "metadata": {},
   "source": [
    "## Load packages"
   ]
  },
  {
   "cell_type": "code",
   "execution_count": 1,
   "metadata": {},
   "outputs": [
    {
     "name": "stderr",
     "output_type": "stream",
     "text": [
      "/opt/anaconda3/envs/Ecosdata/lib/python3.8/site-packages/sklearn/utils/linear_assignment_.py:18: FutureWarning: The linear_assignment_ module is deprecated in 0.21 and will be removed from 0.23. Use scipy.optimize.linear_sum_assignment instead.\n",
      "  warnings.warn(\n"
     ]
    }
   ],
   "source": [
    "# Useful packages\n",
    "import os\n",
    "import warnings\n",
    "\n",
    "# Work with Python array and graphs\n",
    "import numpy as np\n",
    "import matplotlib.pyplot as plt\n",
    "import matplotlib.patches as mpatches\n",
    "\n",
    "# Cluster tendency\n",
    "from pyclustertend import hopkins\n",
    "\n",
    "# Mapping\n",
    "from sklearn.metrics import pairwise_distances, accuracy_score\n",
    "from coclust.evaluation.external import accuracy\n",
    "from skbio.stats.ordination import pcoa\n",
    "from multiview.mvmds import mvmds\n",
    "\n",
    "# Clustering algorithm\n",
    "from sklearn.cluster import KMeans\n",
    "from sklearn.cluster import SpectralClustering\n",
    "from sklearn.cluster import AgglomerativeClustering\n",
    "#from KMedoidsPaper import KMedoids\n",
    "\n",
    "# Clustering performance evaluation\n",
    "from sklearn.metrics import davies_bouldin_score, silhouette_score"
   ]
  },
  {
   "cell_type": "code",
   "execution_count": 2,
   "metadata": {},
   "outputs": [
    {
     "name": "stdout",
     "output_type": "stream",
     "text": [
      "scikit-learn==0.22.1\n",
      "numpy==1.19.1\n",
      "matplotlib==3.3.1\n"
     ]
    }
   ],
   "source": [
    "import pkg_resources\n",
    "import types\n",
    "def get_imports():\n",
    "    for name, val in globals().items():\n",
    "        if isinstance(val, types.ModuleType):\n",
    "            # Split ensures you get root package, \n",
    "            # not just imported function\n",
    "            name = val.__name__.split(\".\")[0]\n",
    "\n",
    "        elif isinstance(val, type):\n",
    "            name = val.__module__.split(\".\")[0]\n",
    "\n",
    "        # Some packages are weird and have different\n",
    "        # imported names vs. system/pip names. Unfortunately,\n",
    "        # there is no systematic way to get pip names from\n",
    "        # a package's imported name. You'll have to add\n",
    "        # exceptions to this list manually!\n",
    "        poorly_named_packages = {\n",
    "            \"PIL\": \"Pillow\",\n",
    "            \"sklearn\": \"scikit-learn\"\n",
    "        }\n",
    "        if name in poorly_named_packages.keys():\n",
    "            name = poorly_named_packages[name]\n",
    "\n",
    "        yield name\n",
    "imports = list(set(get_imports()))\n",
    "\n",
    "# The only way I found to get the version of the root package\n",
    "# from only the name of the package is to cross-check the names \n",
    "# of installed packages vs. imported packages\n",
    "requirements = []\n",
    "for m in pkg_resources.working_set:\n",
    "    if m.project_name in imports and m.project_name!=\"pip\":\n",
    "        requirements.append((m.project_name, m.version))\n",
    "\n",
    "for r in requirements:\n",
    "    print(\"{}=={}\".format(*r))"
   ]
  },
  {
   "cell_type": "markdown",
   "metadata": {},
   "source": [
    "## Load data"
   ]
  },
  {
   "cell_type": "code",
   "execution_count": 3,
   "metadata": {},
   "outputs": [
    {
     "name": "stdout",
     "output_type": "stream",
     "text": [
      "[17, 17, 51, 67, 67, 67, 67, 67, 67, 67, 67, 67, 67, 68]\n",
      "[17, 17, 51, 67, 67, 67, 67, 67, 67, 67, 67, 67, 67, 68]\n"
     ]
    }
   ],
   "source": [
    "def loadShapedMatrix(mat,studiedPeriodsFile,studiedClassesFile):\n",
    "    # Load data from CSV\n",
    "    nameEnd = (\"%s\" %studiedClassesFile).replace(\"[\", \"\")\n",
    "    if ('%s.csv' %(nameEnd))[0] == \" \":\n",
    "        nameEnd = ('%s' %(nameEnd))[1:] # remove first space if there is\n",
    "    nameEnd = (\"%s\" %nameEnd).replace(\"]\", \"\")\n",
    "    nameEnd = (\"%s\" %nameEnd).replace(\" \", \"  \") # 1 space -> 2 spaces ; 2 spaces -> 4 spaces\n",
    "    nameEnd = (\"%s\" %nameEnd).replace(\"    \", \"   \") # 4 spaces -> 3 spaces\n",
    "    nameStart = (\"%s\" %studiedPeriodsFile).replace(\"[\", \"\")\n",
    "    nameStart = (\"%s\" %nameStart).replace(\"]\", \"\")\n",
    "    nameStart = (\"%s\" %nameStart).replace(\" \", \"  \")\n",
    "    \n",
    "    ISC = np.genfromtxt(os.path.join('output','school_%s%s_%s.csv' %(mat,nameStart,nameEnd)),delimiter=',')\n",
    "    ISC = np.array(ISC,dtype='float') # Convert into array\n",
    "\n",
    "    # Initialize reshaped ISC\n",
    "    nParticipants = ISC.shape[0]\n",
    "    nPeriod = int(np.sqrt(ISC.shape[1] / nParticipants))\n",
    "    ISC_sh = np.zeros((ISC.shape[0]*nPeriod,ISC.shape[0]*nPeriod))\n",
    "\n",
    "    # Reshape data by moving blocks\n",
    "    for period1 in range(nPeriod):\n",
    "        for period2 in range(nPeriod):\n",
    "            if (period1 == period2): # We must symmetrize this block containing NaNs\n",
    "                subISC = np.nan_to_num(ISC[:,nParticipants*(nPeriod*period1+period2):nParticipants*(nPeriod*period1+period2+1)])\n",
    "                subISC = (subISC+subISC.T)/2\n",
    "            else:\n",
    "                subISC = ISC[:,nParticipants*(nPeriod*period1+period2):nParticipants*(nPeriod*period1+period2+1)]\n",
    "            \n",
    "            ISC_sh[nParticipants*period1:nParticipants*(period1+1),nParticipants*period2:nParticipants*(period2+1)] = subISC\n",
    "\n",
    "    # Make reshaped ISC symmetrical\n",
    "    ISC_sh = np.nan_to_num(ISC_sh)\n",
    "    ISC_sh = (ISC_sh+ISC_sh.T)/2 \n",
    "    \n",
    "    return ISC_sh,nPeriod,nParticipants\n",
    "\n",
    "\n",
    "# To study : DONT USE LINSPACE OR ARANGE BUT HAND WRITTEN ARRAY, OTERHWISE WILL NOT FIND THE CSV\n",
    "studiedPeriodsFile = np.array([1])\n",
    "#studiedPeriodsFile = np.array([1,4])\n",
    "\n",
    "#studiedClassesFile = np.array([1,2])\n",
    "studiedClassesFile = np.array([1,2,3,4,5,6,7,8,9,10,11,12,13,14,15,16,17])\n",
    "\n",
    "# Load EDA and IBI\n",
    "ISC_EDA,nPeriod,nParticipants = loadShapedMatrix('EDA',studiedPeriodsFile,studiedClassesFile)\n",
    "#ISC_IBI,nPeriod,nParticipants = loadShapedMatrix('IBI',studiedPeriodsFile,studiedClassesFile)\n",
    "ISC_IBI = ISC_EDA\n",
    "\n",
    "# Remove rows with NaNs\n",
    "def removeNaNSubject(matrix,subject):\n",
    "    new_mat = np.copy(matrix)\n",
    "    new_mat = np.delete(new_mat, (subject), axis=0)\n",
    "    new_mat = np.delete(new_mat, (subject), axis=1)\n",
    "    \n",
    "    return new_mat\n",
    "\n",
    "# Remove participant in vector\n",
    "def removeSubjectsVector(vector,subjects):\n",
    "    new_vect = np.copy(vector)\n",
    "    for subj in subjects:\n",
    "        new_vect = np.delete(new_vect, (subj), axis=0)\n",
    "    \n",
    "    return new_vect\n",
    "\n",
    "# Remove rows in ISC if NaN\n",
    "def removeNaNISC(ISC):\n",
    "    last_i = 0\n",
    "    i = 0\n",
    "    subjectsRemoved = []\n",
    "    remove = False\n",
    "    nbTotal = len(ISC) \n",
    "    while (last_i < nbTotal and i < nbTotal - 1):\n",
    "        for i in range(nbTotal):\n",
    "            remove = False\n",
    "            for p in range(nPeriod):\n",
    "                if ISC[p*nParticipants,i] == 0.:\n",
    "                    remove = True\n",
    "                    break\n",
    "\n",
    "            if remove:        \n",
    "                ISC = removeNaNSubject(ISC,i)\n",
    "                last_i = i\n",
    "                nbTotal -= 1\n",
    "                subjectsRemoved.append(i)\n",
    "                break\n",
    "                \n",
    "    print(subjectsRemoved)\n",
    "    return ISC, subjectsRemoved\n",
    "\n",
    "    #print(last_i)\n",
    "\n",
    "    \n",
    "    \n",
    "ISC_EDA,subjectsRemoved_EDA = removeNaNISC(ISC_EDA)\n",
    "ISC_IBI,subjectsRemoved_IBI = removeNaNISC(ISC_IBI)"
   ]
  },
  {
   "cell_type": "markdown",
   "metadata": {},
   "source": [
    "## Compute distance matrix"
   ]
  },
  {
   "cell_type": "code",
   "execution_count": 4,
   "metadata": {},
   "outputs": [],
   "source": [
    "def computeDistanceMatrix(study_matrix):\n",
    "    \n",
    "    # Normalise maximum value to 1\n",
    "    normed_matrix = np.copy(study_matrix)\n",
    "    normed_matrix = normed_matrix / np.max(abs(normed_matrix))\n",
    "    \n",
    "    # Convert into distance matrix\n",
    "    distance_matrix = np.sqrt((1-normed_matrix)) # Formula in Matlab and in Scikit to convert \n",
    "        \n",
    "    # Interval MDS normalization to spread values between 0 and 1\n",
    "    a = np.min(np.sort(distance_matrix,axis=0)[1,:])\n",
    "    distance_matrix = distance_matrix - a\n",
    "    distance_matrix = distance_matrix - np.diag(np.diag(distance_matrix))\n",
    "    distance_matrix = distance_matrix / np.max(distance_matrix)\n",
    "    \n",
    "    # To make sure output is perfectly symmetrical\n",
    "    return (distance_matrix+distance_matrix.T)/2"
   ]
  },
  {
   "cell_type": "markdown",
   "metadata": {},
   "source": [
    "## Multiview mapping"
   ]
  },
  {
   "cell_type": "code",
   "execution_count": 5,
   "metadata": {},
   "outputs": [],
   "source": [
    "def computeAllDistanceMatrix(ISC_EDA,ISC_IBI):\n",
    "    \n",
    "    # Make copy of 2 matrices (for each modality)\n",
    "    mat_EDA = np.copy(ISC_EDA)\n",
    "    mat_IBI = np.copy(ISC_IBI)\n",
    "    \n",
    "    # Compute the 2 distance matrices (according to each modality)\n",
    "    distance_matrix_EDA = computeDistanceMatrix(ISC_EDA)\n",
    "    distance_matrix_IBI = computeDistanceMatrix(ISC_IBI)\n",
    "  \n",
    "    # Remove direct correlation influence and compute correlation distance matrices\n",
    "    for i in range(len(mat_EDA)):\n",
    "        mat_EDA[i,i] = 0\n",
    "    for i in range(len(mat_IBI)):\n",
    "        mat_IBI[i,i] = 0\n",
    "    distance_matrix_corr_EDA = pairwise_distances(mat_EDA,metric='correlation')\n",
    "    distance_matrix_corr_IBI = pairwise_distances(mat_IBI,metric='correlation')\n",
    "\n",
    "    # Return distance matrices\n",
    "    return distance_matrix_EDA, distance_matrix_IBI, distance_matrix_corr_EDA, distance_matrix_corr_IBI\n"
   ]
  },
  {
   "cell_type": "code",
   "execution_count": 6,
   "metadata": {},
   "outputs": [],
   "source": [
    "def computeCoordinate(mat=['EDA','IBI','corrEDA','corrIBI'],added=False):\n",
    "\n",
    "    # Compute all distance matrices\n",
    "    distance_matrix_EDA, distance_matrix_IBI, distance_matrix_corr_EDA, distance_matrix_corr_IBI = computeAllDistanceMatrix(ISC_EDA_work,ISC_IBI_work)    \n",
    "    #distance_matrix_EDA, distance_matrix_corr_EDA = computeAllDistanceMatrix(ISC_EDA,ISC_IBI)    \n",
    "\n",
    "    # Choose which matrices to include into the multiview\n",
    "    multiviewMat = []\n",
    "    if ('EDA' in mat):\n",
    "        multiviewMat.append(distance_matrix_EDA)\n",
    "        distance_matrix = distance_matrix_EDA\n",
    "    if ('IBI' in mat):\n",
    "        multiviewMat.append(distance_matrix_IBI)\n",
    "        distance_matrix = distance_matrix_IBI\n",
    "    if ('corrEDA' in mat):\n",
    "        multiviewMat.append(distance_matrix_corr_EDA)\n",
    "    if ('corrIBI' in mat):\n",
    "        multiviewMat.append(distance_matrix_corr_IBI)\n",
    "        \n",
    "    # Compute mapping\n",
    "    embeddingDim = dim # to have a 2D map\n",
    "    \n",
    "    if len(mat)==1:\n",
    "        points = np.array(pcoa(distance_matrix, method='eigh', number_of_dimensions=embeddingDim).samples)\n",
    "        print(\"pcoa proportion explained : %s \" %np.sum(pcoa(distance_matrix, method='eigh', number_of_dimensions=embeddingDim).proportion_explained))\n",
    "    else:\n",
    "        points = mvmds(multiviewMat,len(mat)*[True],embeddingDim,added=added)\n",
    "    \n",
    "    return points"
   ]
  },
  {
   "cell_type": "code",
   "execution_count": 7,
   "metadata": {},
   "outputs": [
    {
     "data": {
      "text/plain": [
       "\"\\nimport umap.umap_ as umap\\nfrom sklearn import preprocessing\\n\\ndef computeUMAPCoordinate(mat,sslLabel=None,n_neighbors=3):\\n\\n    if (mat==['EDA']):\\n        study_matrix = ISC_EDA_work\\n    if (mat==['IBI']):\\n        study_matrix = ISC_IBI_work\\n\\n    fitter = umap.UMAP(n_components=int(dim),n_neighbors=n_neighbors,metric='correlation',min_dist=0.0,init='spectral',target_weight=0.5,n_epochs=5000).fit(study_matrix,sslLabel)\\n    #points = preprocessing.scale(fitter.embedding_,axis=0)\\n    points = (fitter.embedding_ - np.mean(fitter.embedding_,axis=0)) / np.std(fitter.embedding_,axis=0)\\n    #print(np.std(points))\\n    #print(np.mean(points))\\n    return points\\n\""
      ]
     },
     "execution_count": 7,
     "metadata": {},
     "output_type": "execute_result"
    }
   ],
   "source": [
    "'''\n",
    "import umap.umap_ as umap\n",
    "from sklearn import preprocessing\n",
    "\n",
    "def computeUMAPCoordinate(mat,sslLabel=None,n_neighbors=3):\n",
    "\n",
    "    if (mat==['EDA']):\n",
    "        study_matrix = ISC_EDA_work\n",
    "    if (mat==['IBI']):\n",
    "        study_matrix = ISC_IBI_work\n",
    "\n",
    "    fitter = umap.UMAP(n_components=int(dim),n_neighbors=n_neighbors,metric='correlation',min_dist=0.0,init='spectral',target_weight=0.5,n_epochs=5000).fit(study_matrix,sslLabel)\n",
    "    #points = preprocessing.scale(fitter.embedding_,axis=0)\n",
    "    points = (fitter.embedding_ - np.mean(fitter.embedding_,axis=0)) / np.std(fitter.embedding_,axis=0)\n",
    "    #print(np.std(points))\n",
    "    #print(np.mean(points))\n",
    "    return points\n",
    "'''"
   ]
  },
  {
   "cell_type": "code",
   "execution_count": 8,
   "metadata": {},
   "outputs": [],
   "source": [
    "from sklearn.cluster import SpectralClustering\n",
    "\n",
    "def computeSCCoordinate(mat,gamma=1):\n",
    "    \n",
    "    distance_matrix_EDA, distance_matrix_IBI, distance_matrix_corr_EDA, distance_matrix_corr_IBI = computeAllDistanceMatrix(ISC_EDA_work,ISC_IBI_work)    \n",
    "    #distance_matrix_EDA, distance_matrix_corr_EDA = computeAllDistanceMatrix(ISC_EDA,ISC_IBI)    \n",
    "\n",
    "    if (mat==['EDA']):\n",
    "        distance_matrix = distance_matrix_EDA\n",
    "    if (mat==['IBI']):\n",
    "        distance_matrix = distance_matrix_IBI\n",
    "    \n",
    "    \n",
    "    clusteringDist = SpectralClustering(n_clusters=dim+1, n_init=10,affinity='precomputed')\n",
    "    affinity_matrix = np.exp(-gamma * distance_matrix ** 2)\n",
    "    clusteringDist.fit(affinity_matrix)\n",
    "    return clusteringDist.map_[:,1:]"
   ]
  },
  {
   "cell_type": "code",
   "execution_count": 9,
   "metadata": {},
   "outputs": [],
   "source": [
    "from sklearn.cluster import SpectralClustering\n",
    "\n",
    "def computeNoneCoordinate(mat):\n",
    "    \n",
    "    distance_matrix_EDA, distance_matrix_IBI, distance_matrix_corr_EDA, distance_matrix_corr_IBI = computeAllDistanceMatrix(ISC_EDA_work,ISC_IBI_work)    \n",
    "    #distance_matrix_EDA, distance_matrix_corr_EDA = computeAllDistanceMatrix(ISC_EDA,ISC_IBI)    \n",
    "\n",
    "    if (mat==['EDA']):\n",
    "        distance_matrix = distance_matrix_EDA\n",
    "    if (mat==['IBI']):\n",
    "        distance_matrix = distance_matrix_IBI\n",
    "    \n",
    "    return distance_matrix"
   ]
  },
  {
   "cell_type": "markdown",
   "metadata": {},
   "source": [
    "## Compute clustering"
   ]
  },
  {
   "cell_type": "code",
   "execution_count": 10,
   "metadata": {},
   "outputs": [],
   "source": [
    "class Results():\n",
    "\n",
    "    def __init__(self,mat,mapping,algo,condition):\n",
    "        self.mat = mat\n",
    "        self.mapping = mapping\n",
    "        self.algo = algo\n",
    "        self.condition = condition\n",
    "        \n",
    "    def twoClustersMethodResult(self):\n",
    "        print(\"Blind results\\n\")\n",
    "        \n",
    "        # Cluster tendency\n",
    "        print(\"Hopkins test\")\n",
    "        self.hopkinsCoef()\n",
    "        print(\"%f +- %f\" %(self.hopkins[0],self.hopkins[1]))\n",
    "        \n",
    "        # Found clusters\n",
    "        print(\"Found clusters \")\n",
    "        print(self.label)\n",
    "        \n",
    "        # Clustering quality evaluation\n",
    "        print(\"Silhouette coefficient : %0.3f\" %self.silhouetteCoef())\n",
    "        print(\"DB index : %f \" %self.dbScore())\n",
    "                \n",
    "        # Comparing to ground truth (if known)\n",
    "        if (os.path.isfile(os.path.join('output','conditionSchool_EDA.csv')) and os.path.isfile(os.path.join('output','conditionSchool_IBI.csv'))):\n",
    "            global groundTruth\n",
    "            if (groundTruth):\n",
    "                print(\"\\n\\nComparing to ground truth\\n\")\n",
    "                print(\"Accuracy : %f \" %self.accuracy())\n",
    "                #print(\"Well participants : [%s]\" % \", \".join(map(str, self.wellClassified)))        \n",
    "                print(\"Misclassified participants : [%s]\" % \", \".join(map(str, self.misClassified)))        \n",
    "\n",
    "    def applyMethod(self,method):\n",
    "        \n",
    "        # Mapping\n",
    "        if (mapping == 'UMAP'):\n",
    "            points = computeUMAPCoordinate(self.mat)\n",
    "        elif (mapping == 'MDS'):\n",
    "            points = computeCoordinate(self.mat,added=False)\n",
    "        elif (mapping == 'MDS_scale'):\n",
    "            points = computeCoordinate(self.mat,added=True)\n",
    "        elif (mapping == 'SC'):\n",
    "            points = computeSCCoordinate(self.mat)\n",
    "        elif (mapping == 'None'): # distance matrix based clustering algorithm\n",
    "            print(\"dist meth\")\n",
    "            points = computeNoneCoordinate(self.mat)\n",
    "            if (algo == 'Spectral Clustering distance'):\n",
    "                points = np.exp(-method.gamma * points ** 2)\n",
    "        \n",
    "        # Clustering\n",
    "        # if (meth.distance_matrix):\n",
    "        if (algo == 'K-Medoids'):\n",
    "            meth = method.fit(pairwise_distances(points))\n",
    "        else:\n",
    "            meth = method.fit(points)\n",
    "\n",
    "        # Store found labels and points location\n",
    "        if hasattr(meth, 'labels_'):\n",
    "            label = meth.labels_\n",
    "        else:\n",
    "            label = meth.predict(points)\n",
    "            \n",
    "        self.label = label\n",
    "        self.best_points = points\n",
    "         \n",
    "    def showResultMap(self):\n",
    "        \n",
    "        # Set new figure\n",
    "        plt.figure()\n",
    "        ax = plt.axes([0,0,1.2,1.2])\n",
    "        ax.set_aspect(aspect='equal')\n",
    "        \n",
    "        # Annotate points\n",
    "        if mat == ['EDA']:\n",
    "            n = len(ISC_EDA_work)\n",
    "        elif mat == ['IBI']:\n",
    "            n = len(ISC_IBI_work)        \n",
    "        for i in range(n):\n",
    "            ax.annotate(i,(self.best_points[i,0],self.best_points[i,1]),xytext=(self.best_points[i,0]+(np.max(self.best_points[:,0])-np.min(self.best_points[:,0]))/50,self.best_points[i,1]))     \n",
    "    \n",
    "        # Show color according to trueDisplay bool\n",
    "        global trueDisplay\n",
    "        if (trueDisplay):\n",
    "            # Scatter points\n",
    "            for i in range(n_clusters):\n",
    "                ax.scatter(self.best_points[self.trueGroups[i],0],self.best_points[self.trueGroups[i],1],s=145,label=str(i))\n",
    "            \n",
    "            # Add legend\n",
    "            TP = mpatches.Patch(color='blue', label='NA')\n",
    "            TN = mpatches.Patch(color='red', label='SSA')\n",
    "            FP_FN = mpatches.Patch(color='black', label='misclassified')\n",
    "            #plt.legend(handles=[TP,TN,FP_FN])\n",
    "            plt.title(\"%s on [%s]\" % (self.algo, \", \".join(map(str, self.mat))))\n",
    "            #plt.axis('off')\n",
    "            #axes = plt.gca()\n",
    "            #axes.set_xlim([-0.4,0.4])\n",
    "            #axes.set_ylim([-0.4,0.7])\n",
    "            plt.savefig(os.path.join('figures','GT_%s.png' %self.mat),bbox_inches='tight')\n",
    "        else:\n",
    "            # Scatter points\n",
    "            for i in range(n_clusters):\n",
    "                ax.scatter(self.best_points[self.label == i,0],self.best_points[self.label == i,1],s=145,label=str(i))\n",
    "            \n",
    "            # Add legend\n",
    "            group0 = mpatches.Patch(color='darkgreen', label='First group')\n",
    "            group1 = mpatches.Patch(color='darkorange', label='Second group')\n",
    "            #plt.legend(handles=[group0,group1])       \n",
    "            plt.title(\"%s on [%s]\" % (self.algo, \", \".join(map(str, self.mat))))\n",
    "            #plt.axis('off')\n",
    "            plt.savefig(os.path.join('figures','clustering_%s.png' %self.mat),bbox_inches='tight')\n",
    "\n",
    "        \n",
    "    def dbScore(self):\n",
    "        # Compute DB-score (small means good clustering)\n",
    "        if len(np.unique(self.label))==1:\n",
    "            warnings.warn(\"Labels correspond to only 1 group\")\n",
    "            return -1\n",
    "        elif len(np.unique(self.label))==len(ISC_EDA_work):\n",
    "            warnings.warn(\"Each participant correspond to one label\")\n",
    "            return -1\n",
    "        elif len(np.unique(self.label))==len(ISC_IBI_work):\n",
    "            warnings.warn(\"Each participant correspond to one label\")\n",
    "            return -1\n",
    "        else:\n",
    "            return davies_bouldin_score(self.best_points,self.label)\n",
    "        \n",
    "    def hopkinsCoef(self):\n",
    "        # Average on different random data generated in Hopkins\n",
    "        H = []\n",
    "        if mat == ['EDA']:\n",
    "            n = len(ISC_EDA_work)\n",
    "        elif mat == ['IBI']:\n",
    "            n = len(ISC_IBI_work)\n",
    "        for p in range(100):\n",
    "            H.append(hopkins(self.best_points,n)) \n",
    "        self.hopkins = [1-np.mean(H),np.std(H)]\n",
    "        \n",
    "        # Raise a warning if Hopkins test <= 0.5\n",
    "        if (self.hopkins[0]<=0.5):\n",
    "            warnings.warn(\"Hopkins test <= 0.5 : data set does not have clustering tendency\")\n",
    "            \n",
    "    def silhouetteCoef(self):\n",
    "        # Compute Silhouette Coefficient based on distance matrix (the closer it is to 1, the better the clustering is)\n",
    "        if len(np.unique(self.label))==1:\n",
    "            warnings.warn(\"Labels correspond to only 1 group\")\n",
    "            return -1\n",
    "        elif len(np.unique(self.label))==len(ISC_EDA_work):\n",
    "            warnings.warn(\"Each participant correspond to one label\")\n",
    "            return -1\n",
    "        elif len(np.unique(self.label))==len(ISC_IBI_work):\n",
    "            warnings.warn(\"Each participant correspond to one label\")\n",
    "            return -1\n",
    "        else:\n",
    "            return silhouette_score(self.best_points, self.label, metric='euclidean')\n",
    "        \n",
    "    def accuracy(self):\n",
    "        self.trueGroups = []\n",
    "        for i in range(n_clusters):\n",
    "            self.trueGroups.append(np.where(self.condition == i)[0])\n",
    "        \n",
    "        # Find which participants are misclassified and compute accuracy\n",
    "        if mat == ['EDA']:\n",
    "            subjects = np.arange(len(ISC_EDA_work))\n",
    "        elif mat == ['IBI']:\n",
    "            subjects = np.arange(len(ISC_IBI_work))\n",
    "        self.wellClassified = subjects[self.label==condition]\n",
    "        self.misClassified = subjects[self.label!=self.condition]\n",
    "\n",
    "        return accuracy(self.condition,self.label)"
   ]
  },
  {
   "cell_type": "code",
   "execution_count": 11,
   "metadata": {},
   "outputs": [],
   "source": [
    "# Choose which matrix or matrices to study\n",
    "mat = ['EDA']\n",
    "#mat = ['EDA','IBI']\n",
    "\n",
    "# Decide if compare to ground truth\n",
    "groundTruth = True\n",
    "\n",
    "# Display found clusters or true clusters with misclassified participants in black\n",
    "trueDisplay = True\n",
    "\n",
    "# Choose mapping method\n",
    "#mapping = 'UMAP' ##### Must install umap package\n",
    "#mapping = 'MDS'\n",
    "#mapping = 'MDS_scale'\n",
    "mapping = 'SC'\n",
    "#mapping = 'None'\n",
    "\n",
    "# Choose clustering algorithm\n",
    "algo = 'K-Means'\n",
    "#algo = 'Spectral Clustering'\n",
    "#algo = 'Hierarchical Clustering'\n",
    "#algo = 'K-Medoids'\n",
    "\n",
    "#algo = 'Spectral Clustering distance'\n",
    "#algo = 'Hierarchical Clustering distance'\n",
    "\n",
    "# To study\n",
    "studiedPeriods = np.array([1])\n",
    "studiedClasses = np.array([1,12])"
   ]
  },
  {
   "cell_type": "code",
   "execution_count": 12,
   "metadata": {},
   "outputs": [
    {
     "name": "stdout",
     "output_type": "stream",
     "text": [
      "[17, 17, 51, 67, 67, 67, 67, 67, 67, 67, 67, 67, 67, 68]\n"
     ]
    }
   ],
   "source": [
    "# Read true labels from CSV file\n",
    "condition = np.genfromtxt(os.path.join('output/conditionSchool_%s.csv' %mat[0]),delimiter=',')\n",
    "condition = np.array(condition,dtype='int') # Convert into array\n",
    "\n",
    "if mat == ['EDA']:\n",
    "    print(subjectsRemoved_EDA)\n",
    "    condition_EDA = removeSubjectsVector(condition,subjectsRemoved_EDA)\n",
    "    condition = condition_EDA\n",
    "elif mat == ['IBI']:\n",
    "    condition_IBI = removeSubjectsVector(condition,subjectsRemoved_IBI)\n",
    "    condition = condition_IBI\n",
    "    \n",
    "idxStudiedClasses = [np.where(condition == studiedClasses[i])[0] for i in range(len(studiedClasses))]\n",
    "idxStudiedClasses = np.hstack(idxStudiedClasses)\n",
    "\n",
    "condition = condition*sum([condition==studiedClasses[i] for i in range(len(studiedClasses))])\n",
    "import scipy.stats as ss\n",
    "condition = condition[condition!=0]\n",
    "condition = ss.rankdata(condition,method='dense')\n",
    "\n",
    "nClusters = len(np.unique(condition))\n",
    "nPeriod = len(studiedPeriods)\n",
    "nParticipants = len(condition)\n",
    "\n",
    "# Matlab to Python\n",
    "studiedPeriods -= 1\n",
    "studiedClasses -= 1\n",
    "condition -= 1"
   ]
  },
  {
   "cell_type": "code",
   "execution_count": 13,
   "metadata": {},
   "outputs": [
    {
     "name": "stdout",
     "output_type": "stream",
     "text": [
      "2\n",
      "Blind results\n",
      "\n",
      "Hopkins test\n"
     ]
    },
    {
     "name": "stderr",
     "output_type": "stream",
     "text": [
      "<ipython-input-10-d8d36c215e5b>:141: UserWarning: Hopkins test <= 0.5 : data set does not have clustering tendency\n",
      "  warnings.warn(\"Hopkins test <= 0.5 : data set does not have clustering tendency\")\n",
      "/opt/anaconda3/envs/Ecosdata/lib/python3.8/site-packages/sklearn/utils/linear_assignment_.py:124: FutureWarning: The linear_assignment function is deprecated in 0.21 and will be removed from 0.23. Use scipy.optimize.linear_sum_assignment instead.\n",
      "  warnings.warn(\n"
     ]
    },
    {
     "name": "stdout",
     "output_type": "stream",
     "text": [
      "0.418732 +- 0.032317\n",
      "Found clusters \n",
      "[0 0 0 0 0 0 0 0 0 0 1 1 1 1]\n",
      "Silhouette coefficient : 0.404\n",
      "DB index : 0.816617 \n",
      "\n",
      "\n",
      "Comparing to ground truth\n",
      "\n",
      "Accuracy : 1.000000 \n",
      "Misclassified participants : []\n"
     ]
    },
    {
     "data": {
      "text/plain": [
       "'\\nfrom sklearn.metrics import homogeneity_score\\ncondition = np.genfromtxt(os.path.join(\\'conditionSchool_%s.csv\\' %mat[0]),delimiter=\\',\\')\\ncondition = np.array(condition,dtype=\\'int\\') # Convert into array\\nif mat == [\\'EDA\\']:\\n    condition = removeSubjectsVector(condition,subjectsRemoved_EDA)\\nelif mat == [\\'IBI\\']:\\n    condition = removeSubjectsVector(condition,subjectsRemoved_IBI)\\nprint(\"homogeneity\")\\nprint(homogeneity_score(condition,method_result.label))\\n'"
      ]
     },
     "execution_count": 13,
     "metadata": {},
     "output_type": "execute_result"
    },
    {
     "data": {
      "image/png": "[encoded data removed]",
      "text/plain": [
       "<Figure size 432x288 with 1 Axes>"
      ]
     },
     "metadata": {
      "needs_background": "light"
     },
     "output_type": "display_data"
    },
    {
     "data": {
      "text/plain": [
       "<Figure size 432x288 with 0 Axes>"
      ]
     },
     "metadata": {},
     "output_type": "display_data"
    },
    {
     "data": {
      "image/png": "[encoded data removed]",
      "text/plain": [
       "<Figure size 432x288 with 1 Axes>"
      ]
     },
     "metadata": {
      "needs_background": "light"
     },
     "output_type": "display_data"
    }
   ],
   "source": [
    "# Select studied classes\n",
    "ISC_EDA_work = ISC_EDA[idxStudiedClasses,:]\n",
    "ISC_EDA_work = ISC_EDA_work[:,idxStudiedClasses]\n",
    "ISC_IBI_work = ISC_IBI[idxStudiedClasses,:]\n",
    "ISC_IBI_work = ISC_IBI_work[:,idxStudiedClasses]\n",
    "\n",
    "#Compute chosen clustering\n",
    "method_result = Results(mat=mat,mapping=mapping,algo=algo,condition=condition)\n",
    "n_clusters = nClusters*nPeriod\n",
    "print(n_clusters)\n",
    "\n",
    "dim = 2\n",
    "\n",
    "if (algo == 'K-Means'):\n",
    "    method = KMeans(n_clusters=n_clusters,n_init=100)\n",
    "elif (algo == 'Spectral Clustering'):\n",
    "    method = SpectralClustering(n_clusters=n_clusters,n_init=10,gamma=1)\n",
    "elif (algo == 'K-Medoids'):\n",
    "    method = KMedoids(n_clusters=n_clusters,tmax=1000)\n",
    "elif (algo == 'Hierarchical Clustering'):\n",
    "    method = AgglomerativeClustering(n_clusters=n_clusters,linkage=\"ward\")\n",
    "    \n",
    "elif (algo == 'Spectral Clustering distance'):\n",
    "    method = SpectralClustering(n_clusters=n_clusters,n_init=10,gamma=1,affinity='precomputed')\n",
    "elif (algo == 'Hierarchical Clustering distance'):\n",
    "    method = AgglomerativeClustering(n_clusters=n_clusters,linkage=\"single\",affinity='precomputed')\n",
    "#elif (algo == 'Hierarchical Clustering distance'): # ward doesnt work with precomputed matrix\n",
    "#    method = AgglomerativeClustering(n_clusters=n_clusters,linkage=\"ward\",affinity='precomputed')\n",
    "        \n",
    "method_result.applyMethod(method)\n",
    "\n",
    "# Show results\n",
    "method_result.twoClustersMethodResult()\n",
    "method_result.showResultMap()\n",
    "\n",
    "plt.figure()\n",
    "groundTruth = False\n",
    "trueDisplay = False\n",
    "method_result.showResultMap()\n",
    "\n",
    "'''\n",
    "from sklearn.metrics import homogeneity_score\n",
    "condition = np.genfromtxt(os.path.join('conditionSchool_%s.csv' %mat[0]),delimiter=',')\n",
    "condition = np.array(condition,dtype='int') # Convert into array\n",
    "if mat == ['EDA']:\n",
    "    condition = removeSubjectsVector(condition,subjectsRemoved_EDA)\n",
    "elif mat == ['IBI']:\n",
    "    condition = removeSubjectsVector(condition,subjectsRemoved_IBI)\n",
    "print(\"homogeneity\")\n",
    "print(homogeneity_score(condition,method_result.label))\n",
    "'''"
   ]
  },
  {
   "cell_type": "markdown",
   "metadata": {},
   "source": [
    "## Change dim"
   ]
  },
  {
   "cell_type": "code",
   "execution_count": 14,
   "metadata": {},
   "outputs": [
    {
     "name": "stderr",
     "output_type": "stream",
     "text": [
      "/opt/anaconda3/envs/Ecosdata/lib/python3.8/site-packages/sklearn/utils/linear_assignment_.py:124: FutureWarning: The linear_assignment function is deprecated in 0.21 and will be removed from 0.23. Use scipy.optimize.linear_sum_assignment instead.\n",
      "  warnings.warn(\n",
      "/opt/anaconda3/envs/Ecosdata/lib/python3.8/site-packages/sklearn/utils/linear_assignment_.py:124: FutureWarning: The linear_assignment function is deprecated in 0.21 and will be removed from 0.23. Use scipy.optimize.linear_sum_assignment instead.\n",
      "  warnings.warn(\n"
     ]
    }
   ],
   "source": [
    "# Compute chosen clustering\n",
    "method_result = Results(mat=mat,mapping=mapping,algo=algo,condition=condition)\n",
    "accDim = []\n",
    "allDim = np.arange(2,int(nParticipants/3))\n",
    "\n",
    "if (algo == 'K-Means'):\n",
    "    method = KMeans(n_clusters=n_clusters,n_init=100)\n",
    "elif (algo == 'Spectral Clustering'):\n",
    "    method = SpectralClustering(n_clusters=n_clusters,n_init=10,gamma=1)\n",
    "elif (algo == 'K-Medoids'):\n",
    "    method = KMedoids(n_clusters=n_clusters,tmax=1000)\n",
    "elif (algo == 'Hierarchical Clustering'):\n",
    "    method = AgglomerativeClustering(n_clusters=n_clusters,linkage=\"ward\")\n",
    "\n",
    "for dim in allDim:\n",
    "    method_result.applyMethod(method)\n",
    "    accDim.append(method_result.accuracy())"
   ]
  },
  {
   "cell_type": "code",
   "execution_count": 15,
   "metadata": {},
   "outputs": [
    {
     "name": "stderr",
     "output_type": "stream",
     "text": [
      "No handles with labels found to put in legend.\n"
     ]
    },
    {
     "data": {
      "text/plain": [
       "<matplotlib.legend.Legend at 0x7fa727d37520>"
      ]
     },
     "execution_count": 15,
     "metadata": {},
     "output_type": "execute_result"
    },
    {
     "data": {
      "image/png": "[encoded data removed]",
      "text/plain": [
       "<Figure size 432x288 with 1 Axes>"
      ]
     },
     "metadata": {
      "needs_background": "light"
     },
     "output_type": "display_data"
    }
   ],
   "source": [
    "plt.plot(allDim,accDim)\n",
    "plt.xlabel(\"number of dimensions\")\n",
    "plt.legend()"
   ]
  },
  {
   "cell_type": "markdown",
   "metadata": {},
   "source": [
    "## Varying number of classes"
   ]
  },
  {
   "cell_type": "code",
   "execution_count": 16,
   "metadata": {},
   "outputs": [],
   "source": [
    "import warnings\n",
    "warnings.filterwarnings('ignore')\n",
    "\n",
    "# Choose which matrix or matrices to study\n",
    "mat = ['EDA']\n",
    "#mat = ['EDA','IBI']\n",
    "\n",
    "# Choose mapping method\n",
    "#mapping = 'UMAP'\n",
    "#mapping = 'MDS'\n",
    "#mapping = 'MDS_scale'\n",
    "mapping = 'SC'\n",
    "#mapping = 'None'\n",
    "\n",
    "# Choose clustering algorithm\n",
    "algo = 'K-Means'\n",
    "#algo = 'Spectral Clustering'\n",
    "#algo = 'Hierarchical Clustering'\n",
    "#algo = 'K-Medoids'\n",
    "\n",
    "#algo = 'Spectral Clustering distance'\n",
    "#algo = 'Hierarchical Clustering distance'\n",
    "\n",
    "from itertools import combinations\n",
    "nClusters = 2\n",
    "allClasses = list(combinations(np.arange(1,18),nClusters))\n",
    "accClasses = []\n",
    "\n",
    "for studiedClasses in allClasses:\n",
    "    # To study\n",
    "    studiedPeriods = np.array([1])\n",
    "    studiedClasses = np.array(studiedClasses)\n",
    "\n",
    "    # Read true labels from CSV file\n",
    "    condition = np.genfromtxt(os.path.join('output','conditionSchool_%s.csv' %mat[0]),delimiter=',')\n",
    "    condition = np.array(condition,dtype='int') # Convert into array\n",
    "\n",
    "    if mat == ['EDA']:\n",
    "        condition_EDA = removeSubjectsVector(condition,subjectsRemoved_EDA)\n",
    "        condition = condition_EDA\n",
    "    elif mat == ['IBI']:\n",
    "        condition_IBI = removeSubjectsVector(condition,subjectsRemoved_IBI)\n",
    "        condition = condition_IBI\n",
    "\n",
    "    idxStudiedClasses = [np.where(condition == studiedClasses[i])[0] for i in range(len(studiedClasses))]\n",
    "    idxStudiedClasses = np.hstack(idxStudiedClasses)\n",
    "\n",
    "    condition = condition*sum([condition==studiedClasses[i] for i in range(len(studiedClasses))])\n",
    "    import scipy.stats as ss\n",
    "    condition = condition[condition!=0]\n",
    "    condition = ss.rankdata(condition,method='dense')\n",
    "\n",
    "    nClusters = len(np.unique(condition))\n",
    "    nPeriod = len(studiedPeriods)\n",
    "    nParticipants = len(condition)\n",
    "\n",
    "    # Matlab to Python\n",
    "    studiedPeriods -= 1\n",
    "    studiedClasses -= 1\n",
    "    condition -= 1\n",
    "\n",
    "\n",
    "\n",
    "\n",
    "\n",
    "    # Select studied classes\n",
    "    ISC_EDA_work = ISC_EDA[idxStudiedClasses,:]\n",
    "    ISC_EDA_work = ISC_EDA_work[:,idxStudiedClasses]\n",
    "\n",
    "    #Compute chosen clustering\n",
    "    method_result = Results(mat=mat,mapping=mapping,algo=algo,condition=condition)\n",
    "    n_clusters = nClusters*nPeriod\n",
    "    dim = 2\n",
    "\n",
    "    if (algo == 'K-Means'):\n",
    "        method = KMeans(n_clusters=n_clusters,n_init=100)\n",
    "    elif (algo == 'Spectral Clustering'):\n",
    "        method = SpectralClustering(n_clusters=n_clusters,n_init=10,gamma=1)\n",
    "    elif (algo == 'K-Medoids'):\n",
    "        method = KMedoids(n_clusters=n_clusters,tmax=1000)\n",
    "    elif (algo == 'Hierarchical Clustering'):\n",
    "        method = AgglomerativeClustering(n_clusters=n_clusters,linkage=\"ward\")\n",
    "\n",
    "    elif (algo == 'Spectral Clustering distance'):\n",
    "        method = SpectralClustering(n_clusters=n_clusters,n_init=10,gamma=1,affinity='precomputed')\n",
    "    elif (algo == 'Hierarchical Clustering distance'):\n",
    "        method = AgglomerativeClustering(n_clusters=n_clusters,linkage=\"single\",affinity='precomputed')\n",
    "    #elif (algo == 'Hierarchical Clustering distance'): # ward doesnt work with precomputed matrix\n",
    "    #    method = AgglomerativeClustering(n_clusters=n_clusters,linkage=\"ward\",affinity='precomputed')\n",
    "\n",
    "    try:\n",
    "        method_result.applyMethod(method)\n",
    "        accClasses.append(method_result.accuracy())\n",
    "    except:\n",
    "        accClasses.append(0)"
   ]
  },
  {
   "cell_type": "code",
   "execution_count": 17,
   "metadata": {},
   "outputs": [
    {
     "name": "stdout",
     "output_type": "stream",
     "text": [
      "(array([ 10,  14,  15,  17,  30,  37,  42,  53,  60,  65,  74,  79,  83,\n",
      "        87,  91,  98, 109, 110, 113, 116, 119]),)\n"
     ]
    },
    {
     "data": {
      "image/png": "[encoded data removed]",
      "text/plain": [
       "<Figure size 432x288 with 1 Axes>"
      ]
     },
     "metadata": {
      "needs_background": "light"
     },
     "output_type": "display_data"
    }
   ],
   "source": [
    "accClasses = np.array(accClasses)\n",
    "plt.plot(accClasses)\n",
    "#plt.plot(allClasses,accClasses)\n",
    "#plt.xlabel(\"number of classes\")\n",
    "plt.ylabel(\"accuracy\")\n",
    "print(np.where(accClasses==1.0))"
   ]
  },
  {
   "cell_type": "markdown",
   "metadata": {},
   "source": [
    "## Increasing number of classes"
   ]
  },
  {
   "cell_type": "code",
   "execution_count": 48,
   "metadata": {},
   "outputs": [],
   "source": [
    "import warnings\n",
    "warnings.filterwarnings('ignore')\n",
    "\n",
    "# Choose which matrix or matrices to study\n",
    "mat = ['EDA']\n",
    "#mat = ['EDA','IBI']\n",
    "\n",
    "# Choose mapping method\n",
    "#mapping = 'UMAP'\n",
    "#mapping = 'MDS'\n",
    "#mapping = 'MDS_scale'\n",
    "mapping = 'SC'\n",
    "#mapping = 'None'\n",
    "\n",
    "# Choose clustering algorithm\n",
    "algo = 'K-Means'\n",
    "#algo = 'Spectral Clustering'\n",
    "#algo = 'Hierarchical Clustering'\n",
    "#algo = 'K-Medoids'\n",
    "\n",
    "#algo = 'Spectral Clustering distance'\n",
    "#algo = 'Hierarchical Clustering distance'\n",
    "\n",
    "from itertools import combinations\n",
    "allClasses = []\n",
    "for i in range(1,17):\n",
    "    allClasses.append(np.arange(1,18))\n",
    "    np.random.shuffle(allClasses[i-1])\n",
    "    allClasses[i-1] = allClasses[i-1][:i+1] \n",
    "accClasses = []\n",
    "\n",
    "for studiedClasses in allClasses:\n",
    "    # To study\n",
    "    studiedPeriods = np.array([1])\n",
    "    studiedClasses = np.array(studiedClasses)\n",
    "\n",
    "    # Read true labels from CSV file\n",
    "    condition = np.genfromtxt(os.path.join('output','conditionSchool_%s.csv' %mat[0]),delimiter=',')\n",
    "    condition = np.array(condition,dtype='int') # Convert into array\n",
    "\n",
    "    if mat == ['EDA']:\n",
    "        condition_EDA = removeSubjectsVector(condition,subjectsRemoved_EDA)\n",
    "        condition = condition_EDA\n",
    "    elif mat == ['IBI']:\n",
    "        condition_IBI = removeSubjectsVector(condition,subjectsRemoved_IBI)\n",
    "        condition = condition_IBI\n",
    "\n",
    "    idxStudiedClasses = [np.where(condition == studiedClasses[i])[0] for i in range(len(studiedClasses))]\n",
    "    idxStudiedClasses = np.hstack(idxStudiedClasses)\n",
    "\n",
    "    condition = condition*sum([condition==studiedClasses[i] for i in range(len(studiedClasses))])\n",
    "    import scipy.stats as ss\n",
    "    condition = condition[condition!=0]\n",
    "    condition = ss.rankdata(condition,method='dense')\n",
    "\n",
    "    nClusters = len(np.unique(condition))\n",
    "    nPeriod = len(studiedPeriods)\n",
    "    nParticipants = len(condition)\n",
    "\n",
    "    # Matlab to Python\n",
    "    studiedPeriods -= 1\n",
    "    studiedClasses -= 1\n",
    "    condition -= 1\n",
    "\n",
    "\n",
    "\n",
    "\n",
    "\n",
    "    # Select studied classes\n",
    "    ISC_EDA_work = ISC_EDA[idxStudiedClasses,:]\n",
    "    ISC_EDA_work = ISC_EDA_work[:,idxStudiedClasses]\n",
    "\n",
    "    #Compute chosen clustering\n",
    "    method_result = Results(mat=mat,mapping=mapping,algo=algo,condition=condition)\n",
    "    n_clusters = nClusters*nPeriod\n",
    "    dim = 2\n",
    "\n",
    "    if (algo == 'K-Means'):\n",
    "        method = KMeans(n_clusters=n_clusters,n_init=100)\n",
    "    elif (algo == 'Spectral Clustering'):\n",
    "        method = SpectralClustering(n_clusters=n_clusters,n_init=10,gamma=1)\n",
    "    elif (algo == 'K-Medoids'):\n",
    "        method = KMedoids(n_clusters=n_clusters,tmax=1000)\n",
    "    elif (algo == 'Hierarchical Clustering'):\n",
    "        method = AgglomerativeClustering(n_clusters=n_clusters,linkage=\"ward\")\n",
    "\n",
    "    elif (algo == 'Spectral Clustering distance'):\n",
    "        method = SpectralClustering(n_clusters=n_clusters,n_init=10,gamma=1,affinity='precomputed')\n",
    "    elif (algo == 'Hierarchical Clustering distance'):\n",
    "        method = AgglomerativeClustering(n_clusters=n_clusters,linkage=\"single\",affinity='precomputed')\n",
    "    #elif (algo == 'Hierarchical Clustering distance'): # ward doesnt work with precomputed matrix\n",
    "    #    method = AgglomerativeClustering(n_clusters=n_clusters,linkage=\"ward\",affinity='precomputed')\n",
    "\n",
    "    try:\n",
    "        method_result.applyMethod(method)\n",
    "        accClasses.append(method_result.accuracy())\n",
    "    except:\n",
    "        accClasses.append(0)"
   ]
  },
  {
   "cell_type": "code",
   "execution_count": 49,
   "metadata": {},
   "outputs": [
    {
     "name": "stdout",
     "output_type": "stream",
     "text": [
      "(array([], dtype=int64),)\n"
     ]
    },
    {
     "data": {
      "image/png": "[encoded data removed]",
      "text/plain": [
       "<Figure size 432x288 with 1 Axes>"
      ]
     },
     "metadata": {
      "needs_background": "light"
     },
     "output_type": "display_data"
    }
   ],
   "source": [
    "accClasses = np.array(accClasses)\n",
    "plt.plot(np.arange(2,18),accClasses)\n",
    "plt.xlabel(\"number of classes\")\n",
    "plt.ylabel(\"accuracy\")\n",
    "print(np.where(accClasses==1.0))"
   ]
  },
  {
   "cell_type": "markdown",
   "metadata": {},
   "source": [
    "## Averaging"
   ]
  },
  {
   "cell_type": "code",
   "execution_count": 63,
   "metadata": {},
   "outputs": [
    {
     "name": "stdout",
     "output_type": "stream",
     "text": [
      "0%\n",
      "10%\n",
      "20%\n",
      "30%\n",
      "40%\n",
      "50%\n",
      "60%\n",
      "70%\n",
      "80%\n",
      "90%\n"
     ]
    }
   ],
   "source": [
    "import warnings\n",
    "warnings.filterwarnings('ignore')\n",
    "\n",
    "# Choose which matrix or matrices to study\n",
    "mat = ['EDA']\n",
    "#mat = ['EDA','IBI']\n",
    "\n",
    "# Choose mapping method\n",
    "#mapping = 'UMAP'\n",
    "#mapping = 'MDS'\n",
    "#mapping = 'MDS_scale'\n",
    "mapping = 'SC'\n",
    "#mapping = 'None'\n",
    "\n",
    "# Choose clustering algorithm\n",
    "algo = 'K-Means'\n",
    "#algo = 'Spectral Clustering'\n",
    "#algo = 'Hierarchical Clustering'\n",
    "#algo = 'K-Medoids'\n",
    "\n",
    "#algo = 'Spectral Clustering distance'\n",
    "#algo = 'Hierarchical Clustering distance'\n",
    "\n",
    "from itertools import combinations\n",
    "\n",
    "nbRun = 10\n",
    "avgAccClasses = np.zeros(16)\n",
    "\n",
    "for p in range(nbRun):\n",
    "    print(\"%i\" %(p/(nbRun/100)) + \"%\")\n",
    "    allClasses = []\n",
    "    for i in range(1,17):\n",
    "        allClasses.append(np.arange(1,18))\n",
    "        np.random.shuffle(allClasses[i-1])\n",
    "        allClasses[i-1] = allClasses[i-1][:i+1] \n",
    "    accClasses = np.zeros(16)\n",
    "\n",
    "    for i in range(16):\n",
    "        # To study\n",
    "        studiedPeriods = np.array([1])\n",
    "        studiedClasses = allClasses[i]\n",
    "\n",
    "        # Read true labels from CSV file\n",
    "        condition = np.genfromtxt(os.path.join('output','conditionSchool_%s.csv' %mat[0]),delimiter=',')\n",
    "        condition = np.array(condition,dtype='int') # Convert into array\n",
    "\n",
    "        if mat == ['EDA']:\n",
    "            condition_EDA = removeSubjectsVector(condition,subjectsRemoved_EDA)\n",
    "            condition = condition_EDA\n",
    "        elif mat == ['IBI']:\n",
    "            condition_IBI = removeSubjectsVector(condition,subjectsRemoved_IBI)\n",
    "            condition = condition_IBI\n",
    "\n",
    "        idxStudiedClasses = [np.where(condition == studiedClasses[i])[0] for i in range(len(studiedClasses))]\n",
    "        idxStudiedClasses = np.hstack(idxStudiedClasses)\n",
    "\n",
    "        condition = condition*sum([condition==studiedClasses[i] for i in range(len(studiedClasses))])\n",
    "        import scipy.stats as ss\n",
    "        condition = condition[condition!=0]\n",
    "        condition = ss.rankdata(condition,method='dense')\n",
    "\n",
    "        nClusters = len(np.unique(condition))\n",
    "        nPeriod = len(studiedPeriods)\n",
    "        nParticipants = len(condition)\n",
    "\n",
    "        # Matlab to Python\n",
    "        studiedPeriods -= 1\n",
    "        studiedClasses -= 1\n",
    "        condition -= 1\n",
    "\n",
    "\n",
    "\n",
    "\n",
    "\n",
    "        # Select studied classes\n",
    "        ISC_EDA_work = ISC_EDA[idxStudiedClasses,:]\n",
    "        ISC_EDA_work = ISC_EDA_work[:,idxStudiedClasses]\n",
    "\n",
    "        #Compute chosen clustering\n",
    "        method_result = Results(mat=mat,mapping=mapping,algo=algo,condition=condition)\n",
    "        n_clusters = nClusters*nPeriod\n",
    "        dim = 2\n",
    "\n",
    "        if (algo == 'K-Means'):\n",
    "            method = KMeans(n_clusters=n_clusters,n_init=100)\n",
    "        elif (algo == 'Spectral Clustering'):\n",
    "            method = SpectralClustering(n_clusters=n_clusters,n_init=10,gamma=1)\n",
    "        elif (algo == 'K-Medoids'):\n",
    "            method = KMedoids(n_clusters=n_clusters,tmax=1000)\n",
    "        elif (algo == 'Hierarchical Clustering'):\n",
    "            method = AgglomerativeClustering(n_clusters=n_clusters,linkage=\"ward\")\n",
    "\n",
    "        elif (algo == 'Spectral Clustering distance'):\n",
    "            method = SpectralClustering(n_clusters=n_clusters,n_init=10,gamma=1,affinity='precomputed')\n",
    "        elif (algo == 'Hierarchical Clustering distance'):\n",
    "            method = AgglomerativeClustering(n_clusters=n_clusters,linkage=\"single\",affinity='precomputed')\n",
    "        #elif (algo == 'Hierarchical Clustering distance'): # ward doesnt work with precomputed matrix\n",
    "        #    method = AgglomerativeClustering(n_clusters=n_clusters,linkage=\"ward\",affinity='precomputed')\n",
    "\n",
    "        try:\n",
    "            method_result.applyMethod(method)\n",
    "            accClasses[i] = method_result.accuracy()\n",
    "        except:\n",
    "            accClasses[i] = 0\n",
    "            \n",
    "            \n",
    "    avgAccClasses += accClasses\n",
    "    \n",
    "avgAccClasses /= nbRun"
   ]
  },
  {
   "cell_type": "code",
   "execution_count": 65,
   "metadata": {},
   "outputs": [
    {
     "name": "stdout",
     "output_type": "stream",
     "text": [
      "(array([], dtype=int64),)\n"
     ]
    },
    {
     "data": {
      "image/png": "[encoded data removed]",
      "text/plain": [
       "<Figure size 432x288 with 1 Axes>"
      ]
     },
     "metadata": {
      "needs_background": "light"
     },
     "output_type": "display_data"
    }
   ],
   "source": [
    "avgAccClasses = np.array(avgAccClasses)\n",
    "plt.plot(np.arange(2,18),avgAccClasses)\n",
    "plt.xlabel(\"number of classes\")\n",
    "plt.ylabel(\"accuracy\")\n",
    "print(np.where(avgAccClasses==1.0))"
   ]
  },
  {
   "cell_type": "code",
   "execution_count": null,
   "metadata": {},
   "outputs": [],
   "source": []
  }
 ],
 "metadata": {
  "kernelspec": {
   "display_name": "Ecosdata",
   "language": "python",
   "name": "ecosdata"
  },
  "language_info": {
   "codemirror_mode": {
    "name": "ipython",
    "version": 3
   },
   "file_extension": ".py",
   "mimetype": "text/x-python",
   "name": "python",
   "nbconvert_exporter": "python",
   "pygments_lexer": "ipython3",
   "version": "3.8.5"
  }
 },
 "nbformat": 4,
 "nbformat_minor": 4
}
